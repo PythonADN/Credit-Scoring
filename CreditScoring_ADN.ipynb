{
 "cells": [
  {
   "cell_type": "markdown",
   "metadata": {
    "collapsed": true
   },
   "source": [
    "## Кредитный Скоринг\n",
    "\n",
    "https://www.kaggle.com/c/fintech-credit-scoring\n",
    "\n",
    "**В качестве итоговой модели был выбран Грдиентный бустинг, оценка roc-auc на тесте kaggle составила: 0.71614**\n",
    "\n",
    "#### Описание задачи\n",
    "Дана выборка заявок на кредитный продукт. Про заявителей известны различные данные на момент заполнения анкеты. По части выборки (train, validate) известны результаты пользования кредитом (случился дефолт или нет), а по другой части(test) результаты известны только организаторам. Необходимо извлечь зависимость из имеющихся данных о заявителях и фактом наличия дефолта, и предсказать результат на тестовых данных.\n",
    "В качестве метрики используется AUC"
   ]
  },
  {
   "cell_type": "markdown",
   "metadata": {},
   "source": [
    "## Оглавление:<a class='anchor' id='0'></a>\n",
    "1. [Предобработка данных:](#1)\n",
    "2. [Разбивка и подготовка данных](#2)\n",
    "3. [Создание конвеера и обучение моделей](#3)\n",
    "4. [Добавление полиномов и подбор параметров по сетке](#4)\n",
    "5. [Сравнение ROC кривых](#5)\n",
    "6. [Получение прогнозов](#6)"
   ]
  },
  {
   "cell_type": "code",
   "execution_count": 1,
   "metadata": {
    "collapsed": true
   },
   "outputs": [],
   "source": [
    "import pandas as pd\n",
    "import numpy as np\n",
    "from matplotlib import pylab as plt\n",
    "import seaborn as sns\n",
    "from sklearn.preprocessing import MinMaxScaler, StandardScaler\n",
    "from sklearn.model_selection import train_test_split, cross_val_score\n",
    "from sklearn import pipeline\n",
    "from sklearn.preprocessing import LabelEncoder, OneHotEncoder, FunctionTransformer\n",
    "from sklearn.linear_model import LogisticRegression\n",
    "from sklearn.ensemble import RandomForestClassifier, GradientBoostingClassifier\n",
    "from sklearn.svm import LinearSVC\n",
    "from sklearn.model_selection import GridSearchCV\n",
    "from scipy import stats\n",
    "from sklearn.metrics import roc_auc_score, roc_curve\n",
    "import seaborn\n",
    "from sklearn.utils import shuffle\n",
    "from matplotlib import pylab as plt\n",
    "%matplotlib inline"
   ]
  },
  {
   "cell_type": "markdown",
   "metadata": {},
   "source": [
    "### 1. Предобработка данных <a class='anchor' id='1'></a>\n",
    "[в начало](#0)"
   ]
  },
  {
   "cell_type": "markdown",
   "metadata": {},
   "source": [
    "**Подгрузка данных**"
   ]
  },
  {
   "cell_type": "code",
   "execution_count": 2,
   "metadata": {
    "collapsed": true
   },
   "outputs": [],
   "source": [
    "data = pd.read_csv('application_info.csv') # подрузим выборки\n",
    "label = pd.read_csv('default_flg.csv') # подргузим целевые метки"
   ]
  },
  {
   "cell_type": "code",
   "execution_count": 3,
   "metadata": {
    "collapsed": true
   },
   "outputs": [],
   "source": [
    "# data.head() # выборки"
   ]
  },
  {
   "cell_type": "code",
   "execution_count": 4,
   "metadata": {
    "collapsed": true
   },
   "outputs": [],
   "source": [
    "# label.head() # целевые метки"
   ]
  },
  {
   "cell_type": "markdown",
   "metadata": {},
   "source": [
    "**Описание признаков:**\n",
    "- id - Анонимизированный идентификатор заявителя\n",
    "- application_dt - Дата подачи заявки\n",
    "- sample_cd - Категория выборки\n",
    "- education_cd - Образование\n",
    "- gender_cd - Пол\n",
    "- age - Возраст\n",
    "- car_own_flg - Флаг наличия автомобиля\n",
    "- car_type_flg - Флаг наличия иномарки\n",
    "- appl_rej_cnt - Количество отказанных прошлых заявок\n",
    "- good_work_flg - Флаг наличия \"хорошей\" работы\n",
    "- Score_bki - Скор балл по данным из бюро кредитных историй\n",
    "- out_request_cnt - Количество запросов в бюро\n",
    "- region_rating - Рейтинг региона\n",
    "- home_address_cd - Категоризатор домашнего адреса\n",
    "- work_address_cd - Категоризатор рабочего адреса\n",
    "- income - Доход заявителя\n",
    "- SNA - Связь заявителя с клиентами\n",
    "- first_time_cd - Давность наличия информации о заявителе\n",
    "- Air_flg - Наличие загран паспорта\n",
    "- default_flg - Флаг дефолта по кредиту"
   ]
  },
  {
   "cell_type": "markdown",
   "metadata": {},
   "source": [
    "Сразу удалю лишние данные в таблице (sample_cd и id)"
   ]
  },
  {
   "cell_type": "code",
   "execution_count": 5,
   "metadata": {
    "collapsed": true
   },
   "outputs": [],
   "source": [
    "# data[:110148] # train\n",
    "# data[110148:180816] # validate\n",
    "# data[180816:] # test"
   ]
  },
  {
   "cell_type": "code",
   "execution_count": 6,
   "metadata": {
    "collapsed": true
   },
   "outputs": [],
   "source": [
    "data.drop('sample_cd', axis=1, inplace=True)\n",
    "data.drop('id', axis=1, inplace=True)"
   ]
  },
  {
   "cell_type": "markdown",
   "metadata": {},
   "source": [
    "**Типы полей (признаков)**"
   ]
  },
  {
   "cell_type": "code",
   "execution_count": 7,
   "metadata": {
    "collapsed": true
   },
   "outputs": [],
   "source": [
    "# data.dtypes"
   ]
  },
  {
   "cell_type": "markdown",
   "metadata": {},
   "source": [
    "**Несбалансированность классов**"
   ]
  },
  {
   "cell_type": "code",
   "execution_count": 8,
   "metadata": {},
   "outputs": [
    {
     "data": {
      "text/plain": [
       "0    159982\n",
       "1     20834\n",
       "Name: default_flg, dtype: int64"
      ]
     },
     "execution_count": 8,
     "metadata": {},
     "output_type": "execute_result"
    }
   ],
   "source": [
    "label.default_flg.value_counts()"
   ]
  },
  {
   "cell_type": "markdown",
   "metadata": {},
   "source": [
    "Присутствует несбалансированность классов -> Будем учитывать это при построении моделей (class_weight='balanced')"
   ]
  },
  {
   "cell_type": "markdown",
   "metadata": {},
   "source": [
    "**Исследуем поля на пропуски**"
   ]
  },
  {
   "cell_type": "code",
   "execution_count": 9,
   "metadata": {
    "collapsed": true
   },
   "outputs": [],
   "source": [
    "# data.isnull().sum()"
   ]
  },
  {
   "cell_type": "markdown",
   "metadata": {},
   "source": [
    "Признак education_cd (образование) имеет пропуски. Проверим возможные значения данного признака и будем думать на что заменим пропуски."
   ]
  },
  {
   "cell_type": "code",
   "execution_count": 10,
   "metadata": {},
   "outputs": [
    {
     "data": {
      "text/plain": [
       "SCH    100234\n",
       "GRD     71417\n",
       "UGR     28284\n",
       "PGR      3841\n",
       "ACD       608\n",
       "Name: education_cd, dtype: int64"
      ]
     },
     "execution_count": 10,
     "metadata": {},
     "output_type": "execute_result"
    }
   ],
   "source": [
    "data.education_cd.value_counts() # возможные значения признака education_cd (образование)"
   ]
  },
  {
   "cell_type": "code",
   "execution_count": 11,
   "metadata": {
    "collapsed": true
   },
   "outputs": [],
   "source": [
    "# заменим пропуски в данном поле на 'NaN' (не указано)\n",
    "data.fillna('NAN', inplace=True)"
   ]
  },
  {
   "cell_type": "code",
   "execution_count": 12,
   "metadata": {},
   "outputs": [
    {
     "data": {
      "text/plain": [
       "SCH    100234\n",
       "GRD     71417\n",
       "UGR     28284\n",
       "PGR      3841\n",
       "NAN       912\n",
       "ACD       608\n",
       "Name: education_cd, dtype: int64"
      ]
     },
     "execution_count": 12,
     "metadata": {},
     "output_type": "execute_result"
    }
   ],
   "source": [
    "data.education_cd.value_counts()"
   ]
  },
  {
   "cell_type": "code",
   "execution_count": 13,
   "metadata": {
    "collapsed": true
   },
   "outputs": [],
   "source": [
    "# data.isnull().sum()"
   ]
  },
  {
   "cell_type": "markdown",
   "metadata": {},
   "source": [
    "**Анализ признаков на нормальность**"
   ]
  },
  {
   "cell_type": "code",
   "execution_count": 15,
   "metadata": {},
   "outputs": [
    {
     "data": {
      "image/png": "[encoded data removed]",
      "text/plain": [
       "<matplotlib.figure.Figure at 0x591a4e0>"
      ]
     },
     "metadata": {},
     "output_type": "display_data"
    }
   ],
   "source": [
    "plt.figure(figsize=(12,10))\n",
    "plt.subplot(2,2,1)\n",
    "stats.probplot(data.income, dist=\"norm\", plot=plt) # Q-Q график для income \n",
    "plt.title('income')\n",
    "plt.subplot(2,2,2)\n",
    "stats.probplot(np.log(data.income), dist=\"norm\", plot=plt) # Q-Q график для age\n",
    "plt.title('log_income')\n",
    "plt.subplot(2,2,3)\n",
    "plt.hist(data.income, color='red')\n",
    "plt.title('доход')\n",
    "plt.xlabel('частота')\n",
    "plt.ylabel('значение')\n",
    "plt.subplot(2,2,4)\n",
    "plt.hist(np.log(data.income), color='green')\n",
    "plt.title('логорифм дохода')\n",
    "plt.xlabel('частота')\n",
    "plt.ylabel('значение')\n",
    "plt.show()"
   ]
  },
  {
   "cell_type": "markdown",
   "metadata": {},
   "source": [
    "Q-Q график показывает, что логорифмирование признака income позволяет получить нормальное распределение.\n",
    "Критерий Шапира-Уилка опустил в силу большой выборки (он работает на данных не превышающийх 5000 наблюдений)\n",
    "\n",
    "Изменим данный признак на логарифм от income:"
   ]
  },
  {
   "cell_type": "code",
   "execution_count": 16,
   "metadata": {
    "collapsed": true
   },
   "outputs": [],
   "source": [
    "data['log_income'] = data.income.apply(lambda x: np.log(x)) # добавим признак log_income (логарифм дохода)\n",
    "data.drop('income', axis=1, inplace=True) # удалим признак income (Доход)"
   ]
  },
  {
   "cell_type": "markdown",
   "metadata": {},
   "source": [
    "**Обработка категориальных признаков**"
   ]
  },
  {
   "cell_type": "markdown",
   "metadata": {},
   "source": [
    "Признак application_dt (Дата подачи заявки) разделим на 2 признака: день месяца, месяц. Год вообще нет смысла рассматривать в силу того, что обучающая выборка заканчивается в конце 2014 года, а тестовая начинается только с 1 января 2015. Подобное разбиение может помочь в обнаружении временной цикличности."
   ]
  },
  {
   "cell_type": "code",
   "execution_count": 17,
   "metadata": {
    "collapsed": true
   },
   "outputs": [],
   "source": [
    "data['day_application'] = data.application_dt.apply(lambda x: int(x[0:2])) # создаем признак (день подачи заявки)\n",
    "data['month_application'] = data.application_dt.apply(lambda x: x[2:5]) # создаем признак (месяц подачи заявки)\n",
    "\n",
    "data.drop('application_dt', axis=1, inplace=True) # удалим признак (Дата подачи заявки)"
   ]
  },
  {
   "cell_type": "markdown",
   "metadata": {},
   "source": [
    "Попробуем кодировать категориальные переменные через LabelEncoder:"
   ]
  },
  {
   "cell_type": "code",
   "execution_count": 18,
   "metadata": {
    "collapsed": true
   },
   "outputs": [],
   "source": [
    "# функция кодирования заданных категориальных признаков\n",
    "def Encoder_LabelEncoder(fields): # fields - список признаков\n",
    "    encoder = LabelEncoder()\n",
    "    for f in fields:\n",
    "        data[f] = encoder.fit_transform(data[f])"
   ]
  },
  {
   "cell_type": "code",
   "execution_count": 19,
   "metadata": {
    "collapsed": true
   },
   "outputs": [],
   "source": [
    "# произведем кодирование для бинарных и категориальных\n",
    "Encoder_LabelEncoder(['gender_cd', 'car_own_flg', 'car_type_flg', 'Air_flg']) # 'good_work_flg'\n",
    "Encoder_LabelEncoder(['education_cd', 'day_application', 'month_application']) \n",
    "# 'age', 'day_application', 'appl_rej_cnt', 'out_request_cnt', 'region_rating', \n",
    "# 'home_address_cd', 'work_address_cd', 'SNA', 'first_time_cd'"
   ]
  },
  {
   "cell_type": "code",
   "execution_count": 20,
   "metadata": {},
   "outputs": [
    {
     "data": {
      "text/html": [
       "<div>\n",
       "<style>\n",
       "    .dataframe thead tr:only-child th {\n",
       "        text-align: right;\n",
       "    }\n",
       "\n",
       "    .dataframe thead th {\n",
       "        text-align: left;\n",
       "    }\n",
       "\n",
       "    .dataframe tbody tr th {\n",
       "        vertical-align: top;\n",
       "    }\n",
       "</style>\n",
       "<table border=\"1\" class=\"dataframe\">\n",
       "  <thead>\n",
       "    <tr style=\"text-align: right;\">\n",
       "      <th></th>\n",
       "      <th>education_cd</th>\n",
       "      <th>gender_cd</th>\n",
       "      <th>age</th>\n",
       "      <th>car_own_flg</th>\n",
       "      <th>car_type_flg</th>\n",
       "      <th>appl_rej_cnt</th>\n",
       "      <th>good_work_flg</th>\n",
       "      <th>Score_bki</th>\n",
       "      <th>out_request_cnt</th>\n",
       "      <th>region_rating</th>\n",
       "      <th>home_address_cd</th>\n",
       "      <th>work_address_cd</th>\n",
       "      <th>SNA</th>\n",
       "      <th>first_time_cd</th>\n",
       "      <th>Air_flg</th>\n",
       "      <th>log_income</th>\n",
       "      <th>day_application</th>\n",
       "      <th>month_application</th>\n",
       "    </tr>\n",
       "  </thead>\n",
       "  <tbody>\n",
       "    <tr>\n",
       "      <th>0</th>\n",
       "      <td>4</td>\n",
       "      <td>1</td>\n",
       "      <td>27</td>\n",
       "      <td>1</td>\n",
       "      <td>1</td>\n",
       "      <td>0</td>\n",
       "      <td>0</td>\n",
       "      <td>-1.917831</td>\n",
       "      <td>0</td>\n",
       "      <td>40</td>\n",
       "      <td>2</td>\n",
       "      <td>3</td>\n",
       "      <td>1</td>\n",
       "      <td>4</td>\n",
       "      <td>0</td>\n",
       "      <td>10.373491</td>\n",
       "      <td>0</td>\n",
       "      <td>3</td>\n",
       "    </tr>\n",
       "    <tr>\n",
       "      <th>1</th>\n",
       "      <td>1</td>\n",
       "      <td>0</td>\n",
       "      <td>26</td>\n",
       "      <td>0</td>\n",
       "      <td>0</td>\n",
       "      <td>0</td>\n",
       "      <td>0</td>\n",
       "      <td>-1.153144</td>\n",
       "      <td>2</td>\n",
       "      <td>60</td>\n",
       "      <td>2</td>\n",
       "      <td>3</td>\n",
       "      <td>2</td>\n",
       "      <td>1</td>\n",
       "      <td>0</td>\n",
       "      <td>10.819778</td>\n",
       "      <td>0</td>\n",
       "      <td>3</td>\n",
       "    </tr>\n",
       "    <tr>\n",
       "      <th>2</th>\n",
       "      <td>4</td>\n",
       "      <td>1</td>\n",
       "      <td>35</td>\n",
       "      <td>0</td>\n",
       "      <td>0</td>\n",
       "      <td>0</td>\n",
       "      <td>1</td>\n",
       "      <td>-1.732810</td>\n",
       "      <td>0</td>\n",
       "      <td>40</td>\n",
       "      <td>1</td>\n",
       "      <td>2</td>\n",
       "      <td>4</td>\n",
       "      <td>3</td>\n",
       "      <td>0</td>\n",
       "      <td>9.903488</td>\n",
       "      <td>0</td>\n",
       "      <td>3</td>\n",
       "    </tr>\n",
       "    <tr>\n",
       "      <th>3</th>\n",
       "      <td>1</td>\n",
       "      <td>0</td>\n",
       "      <td>35</td>\n",
       "      <td>0</td>\n",
       "      <td>0</td>\n",
       "      <td>0</td>\n",
       "      <td>1</td>\n",
       "      <td>-2.552133</td>\n",
       "      <td>2</td>\n",
       "      <td>20</td>\n",
       "      <td>2</td>\n",
       "      <td>3</td>\n",
       "      <td>1</td>\n",
       "      <td>3</td>\n",
       "      <td>0</td>\n",
       "      <td>11.289782</td>\n",
       "      <td>0</td>\n",
       "      <td>3</td>\n",
       "    </tr>\n",
       "    <tr>\n",
       "      <th>4</th>\n",
       "      <td>5</td>\n",
       "      <td>0</td>\n",
       "      <td>24</td>\n",
       "      <td>0</td>\n",
       "      <td>0</td>\n",
       "      <td>0</td>\n",
       "      <td>0</td>\n",
       "      <td>-1.914581</td>\n",
       "      <td>1</td>\n",
       "      <td>50</td>\n",
       "      <td>2</td>\n",
       "      <td>3</td>\n",
       "      <td>1</td>\n",
       "      <td>2</td>\n",
       "      <td>0</td>\n",
       "      <td>10.203592</td>\n",
       "      <td>0</td>\n",
       "      <td>3</td>\n",
       "    </tr>\n",
       "  </tbody>\n",
       "</table>\n",
       "</div>"
      ],
      "text/plain": [
       "   education_cd  gender_cd  age  car_own_flg  car_type_flg  appl_rej_cnt  \\\n",
       "0             4          1   27            1             1             0   \n",
       "1             1          0   26            0             0             0   \n",
       "2             4          1   35            0             0             0   \n",
       "3             1          0   35            0             0             0   \n",
       "4             5          0   24            0             0             0   \n",
       "\n",
       "   good_work_flg  Score_bki  out_request_cnt  region_rating  home_address_cd  \\\n",
       "0              0  -1.917831                0             40                2   \n",
       "1              0  -1.153144                2             60                2   \n",
       "2              1  -1.732810                0             40                1   \n",
       "3              1  -2.552133                2             20                2   \n",
       "4              0  -1.914581                1             50                2   \n",
       "\n",
       "   work_address_cd  SNA  first_time_cd  Air_flg  log_income  day_application  \\\n",
       "0                3    1              4        0   10.373491                0   \n",
       "1                3    2              1        0   10.819778                0   \n",
       "2                2    4              3        0    9.903488                0   \n",
       "3                3    1              3        0   11.289782                0   \n",
       "4                3    1              2        0   10.203592                0   \n",
       "\n",
       "   month_application  \n",
       "0                  3  \n",
       "1                  3  \n",
       "2                  3  \n",
       "3                  3  \n",
       "4                  3  "
      ]
     },
     "execution_count": 20,
     "metadata": {},
     "output_type": "execute_result"
    }
   ],
   "source": [
    "data.head()\n",
    "# data.dtypes"
   ]
  },
  {
   "cell_type": "markdown",
   "metadata": {},
   "source": [
    "В дальнейшем, возможно произведем бининг (разбивка на карманы и прямое кодирование) для вещественных и некоторых целых признаков"
   ]
  },
  {
   "cell_type": "markdown",
   "metadata": {},
   "source": [
    "**Коллинеарность признаков**"
   ]
  },
  {
   "cell_type": "code",
   "execution_count": 22,
   "metadata": {},
   "outputs": [],
   "source": [
    "Corr_Total = data.ix[:, 1:].corr(method='pearson') # корреляция всех признаков\n",
    "Corr_Cnt = data.corrwith(label.default_flg) # корреляция Цели от всех признаков"
   ]
  },
  {
   "cell_type": "markdown",
   "metadata": {},
   "source": [
    "Корреляция с целевой меткой"
   ]
  },
  {
   "cell_type": "code",
   "execution_count": 23,
   "metadata": {},
   "outputs": [
    {
     "data": {
      "text/plain": [
       "first_time_cd       -0.096150\n",
       "region_rating       -0.089609\n",
       "Air_flg             -0.063867\n",
       "log_income          -0.052704\n",
       "car_type_flg        -0.050112\n",
       "good_work_flg       -0.047367\n",
       "car_own_flg         -0.035595\n",
       "age                 -0.025964\n",
       "month_application   -0.005962\n",
       "day_application     -0.004641\n",
       "gender_cd            0.020321\n",
       "home_address_cd      0.055765\n",
       "work_address_cd      0.056023\n",
       "out_request_cnt      0.065223\n",
       "education_cd         0.077207\n",
       "appl_rej_cnt         0.107177\n",
       "SNA                  0.122386\n",
       "Score_bki            0.170857\n",
       "dtype: float64"
      ]
     },
     "execution_count": 23,
     "metadata": {},
     "output_type": "execute_result"
    }
   ],
   "source": [
    "Corr_Cnt.sort_values()"
   ]
  },
  {
   "cell_type": "markdown",
   "metadata": {},
   "source": [
    "Значение **целевой метки** относительно сильно коррелирует со следующими признаками:\n",
    "* Score_bki (Скор балл по данным из бюро кредитных историй) = 17%\n",
    "* SNA (Связь заявителя с клиентами) = 12%\n",
    "* appl_rej_cnt (Количество отказанных прошлых заявок) = 11%\n",
    "* first_time_cd (Давность наличия информации о заявителя) = -10%\n",
    "* region_rating (Рейтинг региона) = -9%\n",
    "* education_cd (Образование) = 8%\n",
    "* out_request_cnt (Количество запросов в бюро) = 6.5%"
   ]
  },
  {
   "cell_type": "markdown",
   "metadata": {},
   "source": [
    "Коллинеарность признаков:"
   ]
  },
  {
   "cell_type": "code",
   "execution_count": 24,
   "metadata": {},
   "outputs": [
    {
     "data": {
      "text/html": [
       "<div>\n",
       "<style>\n",
       "    .dataframe thead tr:only-child th {\n",
       "        text-align: right;\n",
       "    }\n",
       "\n",
       "    .dataframe thead th {\n",
       "        text-align: left;\n",
       "    }\n",
       "\n",
       "    .dataframe tbody tr th {\n",
       "        vertical-align: top;\n",
       "    }\n",
       "</style>\n",
       "<table border=\"1\" class=\"dataframe\">\n",
       "  <thead>\n",
       "    <tr style=\"text-align: right;\">\n",
       "      <th></th>\n",
       "      <th>max</th>\n",
       "    </tr>\n",
       "  </thead>\n",
       "  <tbody>\n",
       "    <tr>\n",
       "      <th>home_address_cd</th>\n",
       "      <td>0.740874</td>\n",
       "    </tr>\n",
       "    <tr>\n",
       "      <th>work_address_cd</th>\n",
       "      <td>0.740874</td>\n",
       "    </tr>\n",
       "    <tr>\n",
       "      <th>car_own_flg</th>\n",
       "      <td>0.700206</td>\n",
       "    </tr>\n",
       "    <tr>\n",
       "      <th>car_type_flg</th>\n",
       "      <td>0.700206</td>\n",
       "    </tr>\n",
       "    <tr>\n",
       "      <th>log_income</th>\n",
       "      <td>0.367215</td>\n",
       "    </tr>\n",
       "  </tbody>\n",
       "</table>\n",
       "</div>"
      ],
      "text/plain": [
       "                      max\n",
       "home_address_cd  0.740874\n",
       "work_address_cd  0.740874\n",
       "car_own_flg      0.700206\n",
       "car_type_flg     0.700206\n",
       "log_income       0.367215"
      ]
     },
     "execution_count": 24,
     "metadata": {},
     "output_type": "execute_result"
    }
   ],
   "source": [
    "max_corr = pd.DataFrame(Corr_Total.apply(lambda x : np.max(list(filter(lambda x: x!=1., x))), axis = 1))\n",
    "max_corr.columns = ['max']\n",
    "max_corr.sort_values(by = 'max', ascending = False).head()"
   ]
  },
  {
   "cell_type": "markdown",
   "metadata": {},
   "source": [
    "* Домашний адрес сильно коррелирует с рабочим адресом = 74%\n",
    "* Наличия машины и Иномарка = 70%\n",
    "* Доход заявителя и Наличие иномарки 31%"
   ]
  },
  {
   "cell_type": "code",
   "execution_count": 25,
   "metadata": {},
   "outputs": [
    {
     "data": {
      "text/html": [
       "<div>\n",
       "<style>\n",
       "    .dataframe thead tr:only-child th {\n",
       "        text-align: right;\n",
       "    }\n",
       "\n",
       "    .dataframe thead th {\n",
       "        text-align: left;\n",
       "    }\n",
       "\n",
       "    .dataframe tbody tr th {\n",
       "        vertical-align: top;\n",
       "    }\n",
       "</style>\n",
       "<table border=\"1\" class=\"dataframe\">\n",
       "  <thead>\n",
       "    <tr style=\"text-align: right;\">\n",
       "      <th></th>\n",
       "      <th>min</th>\n",
       "    </tr>\n",
       "  </thead>\n",
       "  <tbody>\n",
       "    <tr>\n",
       "      <th>first_time_cd</th>\n",
       "      <td>-0.543833</td>\n",
       "    </tr>\n",
       "    <tr>\n",
       "      <th>SNA</th>\n",
       "      <td>-0.543833</td>\n",
       "    </tr>\n",
       "    <tr>\n",
       "      <th>Air_flg</th>\n",
       "      <td>-0.179766</td>\n",
       "    </tr>\n",
       "    <tr>\n",
       "      <th>log_income</th>\n",
       "      <td>-0.139277</td>\n",
       "    </tr>\n",
       "    <tr>\n",
       "      <th>age</th>\n",
       "      <td>-0.134972</td>\n",
       "    </tr>\n",
       "  </tbody>\n",
       "</table>\n",
       "</div>"
      ],
      "text/plain": [
       "                    min\n",
       "first_time_cd -0.543833\n",
       "SNA           -0.543833\n",
       "Air_flg       -0.179766\n",
       "log_income    -0.139277\n",
       "age           -0.134972"
      ]
     },
     "execution_count": 25,
     "metadata": {},
     "output_type": "execute_result"
    }
   ],
   "source": [
    "min_corr = pd.DataFrame(Corr_Total.min())\n",
    "min_corr.columns = ['min']\n",
    "min_corr.sort_values(by = 'min').head()"
   ]
  },
  {
   "cell_type": "markdown",
   "metadata": {},
   "source": [
    "* Связь заявителя с клиентами и Давность наличия информации о заявителе = -54%\n",
    "* Обазование и Доход заявителя = -21%\n",
    "* Наличие загран паспорта и Связь заявителя с клиентами = -18%"
   ]
  },
  {
   "cell_type": "markdown",
   "metadata": {},
   "source": [
    "**Матрица попарных корреляций**"
   ]
  },
  {
   "cell_type": "code",
   "execution_count": 26,
   "metadata": {},
   "outputs": [
    {
     "data": {
      "text/plain": [
       "<matplotlib.axes._subplots.AxesSubplot at 0x10c06f28>"
      ]
     },
     "execution_count": 26,
     "metadata": {},
     "output_type": "execute_result"
    },
    {
     "data": {
      "image/png": "[encoded data removed]",
      "text/plain": [
       "<matplotlib.figure.Figure at 0x5948630>"
      ]
     },
     "metadata": {},
     "output_type": "display_data"
    }
   ],
   "source": [
    "plt.figure(figsize=(20,16))\n",
    "seaborn.heatmap(data.corr(), square=True)"
   ]
  },
  {
   "cell_type": "markdown",
   "metadata": {},
   "source": [
    "Признаков достаточно мало и мы не будем выкидывать взаимозависимые, тем более в линейной модели используется регуляризация. Однако будем иметь ввиду, что признаки: наличие автомобиля и иномарки, а так же домашний и рабочий адрес сильно коррелируемы между собой"
   ]
  },
  {
   "cell_type": "markdown",
   "metadata": {},
   "source": [
    "### 2. Разбивка и подготовка данных <a class='anchor' id='2'></a>\n",
    "[в начало](#0)"
   ]
  },
  {
   "cell_type": "code",
   "execution_count": 27,
   "metadata": {
    "collapsed": true
   },
   "outputs": [],
   "source": [
    "# data.head()"
   ]
  },
  {
   "cell_type": "code",
   "execution_count": 29,
   "metadata": {},
   "outputs": [
    {
     "name": "stdout",
     "output_type": "stream",
     "text": [
      "Train data:(180816, 18), Train labels:(180816,)\n",
      "Test data:(24480, 18)\n"
     ]
    }
   ],
   "source": [
    "X = data[:180816]\n",
    "X_test = data[180816:]\n",
    "y = label.default_flg.values\n",
    "print('Train data:{}, Train labels:{}'.format(X.shape, label.default_flg.shape))\n",
    "print ('Test data:{}'.format(X_test.shape))"
   ]
  },
  {
   "cell_type": "code",
   "execution_count": 30,
   "metadata": {
    "collapsed": true
   },
   "outputs": [],
   "source": [
    "'''Перемешивание выборки'''\n",
    "X,y = shuffle(X,y)"
   ]
  },
  {
   "cell_type": "markdown",
   "metadata": {},
   "source": [
    "Разобьем с перемешиванием обучающую выборку и целевые метки на обучение и валидацию:"
   ]
  },
  {
   "cell_type": "code",
   "execution_count": 31,
   "metadata": {},
   "outputs": [
    {
     "data": {
      "text/plain": [
       "0.3584268438827759"
      ]
     },
     "execution_count": 31,
     "metadata": {},
     "output_type": "execute_result"
    }
   ],
   "source": [
    "1-70668/110148 # доля валидационной выборки (1-validate/train)"
   ]
  },
  {
   "cell_type": "code",
   "execution_count": 32,
   "metadata": {},
   "outputs": [
    {
     "name": "stdout",
     "output_type": "stream",
     "text": [
      "X_train:(116011, 18), y_train:(116011,)\n",
      "X_valid:(64805, 18), y_valid:(64805,)\n"
     ]
    }
   ],
   "source": [
    "X_train, X_valid, y_train, y_valid = train_test_split(X, y, test_size=0.3584)\n",
    "print('X_train:{}, y_train:{}'.format(X_train.shape, y_train.shape))\n",
    "print('X_valid:{}, y_valid:{}'.format(X_valid.shape, y_valid.shape))"
   ]
  },
  {
   "cell_type": "markdown",
   "metadata": {
    "collapsed": true
   },
   "source": [
    "### 3. Создание конвеера и обучение моделей <a class='anchor' id='3'></a>\n",
    "[в начало](#0)"
   ]
  },
  {
   "cell_type": "code",
   "execution_count": 33,
   "metadata": {
    "collapsed": true
   },
   "outputs": [],
   "source": [
    "# для бинарных признаков\n",
    "binary_data_columns = ['gender_cd', 'car_own_flg', 'car_type_flg', 'good_work_flg', 'Air_flg']\n",
    "binary_data_indices = np.array([(column in binary_data_columns) for column in X_train.columns], dtype = bool)"
   ]
  },
  {
   "cell_type": "code",
   "execution_count": 34,
   "metadata": {
    "collapsed": true
   },
   "outputs": [],
   "source": [
    "# для целых признаков \n",
    "numeric_data_columns = ['education_cd','day_application','month_application','appl_rej_cnt','out_request_cnt',\n",
    "                        'region_rating','home_address_cd','work_address_cd','SNA','first_time_cd'] \n",
    "numeric_data_indices = np.array([(column in numeric_data_columns) for column in X_train.columns], dtype = bool)"
   ]
  },
  {
   "cell_type": "code",
   "execution_count": 35,
   "metadata": {
    "collapsed": true
   },
   "outputs": [],
   "source": [
    "# для вещественных признаков        \n",
    "float_data_columns = ['Score_bki','log_income','log_age'] \n",
    "float_data_indices = np.array([(column in float_data_columns) for column in X_train.columns], dtype = bool)"
   ]
  },
  {
   "cell_type": "markdown",
   "metadata": {},
   "source": [
    "**Задание моделей**"
   ]
  },
  {
   "cell_type": "code",
   "execution_count": 36,
   "metadata": {
    "collapsed": true
   },
   "outputs": [],
   "source": [
    "model_1 = LogisticRegression(random_state = 0, class_weight='balanced')\n",
    "model_2 = LinearSVC(random_state = 0, class_weight='balanced')\n",
    "model_3 = RandomForestClassifier(random_state=0, class_weight='balanced', n_estimators=100)\n",
    "model_4 = GradientBoostingClassifier(random_state=0, n_estimators=100)"
   ]
  },
  {
   "cell_type": "markdown",
   "metadata": {
    "collapsed": true
   },
   "source": [
    "**Построение конвеера**"
   ]
  },
  {
   "cell_type": "code",
   "execution_count": 37,
   "metadata": {
    "collapsed": true
   },
   "outputs": [],
   "source": [
    "'''функция конвеер'''\n",
    "def PipModel(model):\n",
    "    pip = pipeline.Pipeline([\n",
    "        # шаг 1: рзбивка на виды и предобработка\n",
    "        ('feature_processing', pipeline.FeatureUnion([\n",
    "            # шаг 1.1: вещественные признаки (выделение)\n",
    "            ('binary_variables_processing', FunctionTransformer(lambda d: d[:, binary_data_indices])),  \n",
    "            # шаг 1.2: целые признаки (выделение)\n",
    "            ('numeric_variables_processing', pipeline.Pipeline([\n",
    "                    ('selecting', FunctionTransformer(lambda d: d[:, numeric_data_indices])), \n",
    "                    ('scaling', StandardScaler(with_mean = 0))\n",
    "                    #('scaling', MinMaxScaler())\n",
    "            ])),\n",
    "            # шаг 1.3: вещественные признаки (выделение и стандартизация)\n",
    "            ('float_variables_processing', pipeline.Pipeline([\n",
    "                    ('selecting', FunctionTransformer(lambda d: d[:, float_data_indices])),\n",
    "                    ('scaling', StandardScaler(with_mean = 0))\n",
    "                    #('scaling', MinMaxScaler())\n",
    "            ]))\n",
    "        ])),\n",
    "        # шаг 2: обучение модели\n",
    "        ('model_fitting', model)\n",
    "    ])\n",
    "    return pip"
   ]
  },
  {
   "cell_type": "markdown",
   "metadata": {},
   "source": [
    "**Модель логистической регрессии:**"
   ]
  },
  {
   "cell_type": "code",
   "execution_count": 38,
   "metadata": {},
   "outputs": [
    {
     "name": "stdout",
     "output_type": "stream",
     "text": [
      "Wall time: 12.9 s\n"
     ]
    }
   ],
   "source": [
    "%%time\n",
    "cv_1 = cross_val_score(PipModel(model_1), X, y, scoring='roc_auc', cv=5)"
   ]
  },
  {
   "cell_type": "code",
   "execution_count": 39,
   "metadata": {},
   "outputs": [
    {
     "name": "stdout",
     "output_type": "stream",
     "text": [
      "mean: 0.72360, std: 0.00537\n"
     ]
    }
   ],
   "source": [
    "print('mean: {:.5f}, std: {:.5f}'.format(cv_1.mean(), cv_1.std()))"
   ]
  },
  {
   "cell_type": "markdown",
   "metadata": {},
   "source": [
    "**Модель линейного SVM:**"
   ]
  },
  {
   "cell_type": "code",
   "execution_count": 255,
   "metadata": {},
   "outputs": [
    {
     "name": "stdout",
     "output_type": "stream",
     "text": [
      "Wall time: 6min 20s\n"
     ]
    }
   ],
   "source": [
    "%%time\n",
    "cv_2 = cross_val_score(PipModel(model_2), X, y, scoring='roc_auc', cv=5)"
   ]
  },
  {
   "cell_type": "code",
   "execution_count": 262,
   "metadata": {},
   "outputs": [
    {
     "name": "stdout",
     "output_type": "stream",
     "text": [
      "mean: 0.71895, std: 0.00288\n"
     ]
    }
   ],
   "source": [
    "print('mean: {:.5f}, std: {:.5f}'.format(cv_2.mean(), cv_2.std()))"
   ]
  },
  {
   "cell_type": "markdown",
   "metadata": {},
   "source": [
    "**Модель cлучайного леса:**"
   ]
  },
  {
   "cell_type": "code",
   "execution_count": 265,
   "metadata": {},
   "outputs": [
    {
     "name": "stdout",
     "output_type": "stream",
     "text": [
      "Wall time: 4min 29s\n"
     ]
    }
   ],
   "source": [
    "%%time\n",
    "cv_3 = cross_val_score(model_3, X, y, scoring='roc_auc', cv=5)"
   ]
  },
  {
   "cell_type": "code",
   "execution_count": 267,
   "metadata": {},
   "outputs": [
    {
     "name": "stdout",
     "output_type": "stream",
     "text": [
      "mean: 0.705, std: 0.004\n"
     ]
    }
   ],
   "source": [
    "print('mean: {:.3f}, std: {:.3f}'.format(cv_3.mean(), cv_3.std()))"
   ]
  },
  {
   "cell_type": "markdown",
   "metadata": {},
   "source": [
    "**Модель градиентного бустинга:**"
   ]
  },
  {
   "cell_type": "code",
   "execution_count": 312,
   "metadata": {},
   "outputs": [
    {
     "name": "stdout",
     "output_type": "stream",
     "text": [
      "Wall time: 3min 9s\n"
     ]
    }
   ],
   "source": [
    "%%time\n",
    "cv_4 = cross_val_score(model_4, X, y, scoring='roc_auc', cv=5)"
   ]
  },
  {
   "cell_type": "code",
   "execution_count": 313,
   "metadata": {},
   "outputs": [
    {
     "name": "stdout",
     "output_type": "stream",
     "text": [
      "mean: 0.735, std: 0.002\n"
     ]
    }
   ],
   "source": [
    "print('mean: {:.3f}, std: {:.3f}'.format(cv_4.mean(), cv_4.std()))"
   ]
  },
  {
   "cell_type": "markdown",
   "metadata": {},
   "source": [
    "### 4. Добавление полиномов и подбор параметров по сетке<a class='anchor' id='4'></a>\n",
    "[в начало](#0)"
   ]
  },
  {
   "cell_type": "code",
   "execution_count": 40,
   "metadata": {
    "collapsed": true
   },
   "outputs": [],
   "source": [
    "from sklearn.preprocessing import PolynomialFeatures"
   ]
  },
  {
   "cell_type": "markdown",
   "metadata": {},
   "source": [
    "Число сочетаний полиномов второй степени за исключением квадратов составляет 153\n",
    "\n",
    "Плюс 18 исходных признаков"
   ]
  },
  {
   "cell_type": "code",
   "execution_count": 41,
   "metadata": {
    "collapsed": true
   },
   "outputs": [],
   "source": [
    "pip_log = pipeline.Pipeline([('scaling', StandardScaler(with_mean = 0)),\n",
    "                             ('poly', PolynomialFeatures(degree=2, interaction_only=True, include_bias=False)),\n",
    "                             ('model', model_1)])"
   ]
  },
  {
   "cell_type": "code",
   "execution_count": 316,
   "metadata": {},
   "outputs": [
    {
     "name": "stdout",
     "output_type": "stream",
     "text": [
      "Wall time: 21min 52s\n"
     ]
    }
   ],
   "source": [
    "%%time\n",
    "cv_p1 = cross_val_score(pip_log, X, y, scoring='roc_auc', cv=5)"
   ]
  },
  {
   "cell_type": "code",
   "execution_count": 317,
   "metadata": {},
   "outputs": [
    {
     "name": "stdout",
     "output_type": "stream",
     "text": [
      "mean: 0.72804, std: 0.00092\n"
     ]
    }
   ],
   "source": [
    "print('mean: {:.5f}, std: {:.5f}'.format(cv_p1.mean(), cv_p1.std()))"
   ]
  },
  {
   "cell_type": "markdown",
   "metadata": {},
   "source": [
    "**Подбор параметров по сетке для Лог регрессии с полиномами**"
   ]
  },
  {
   "cell_type": "code",
   "execution_count": 42,
   "metadata": {
    "collapsed": true
   },
   "outputs": [],
   "source": [
    "param_grid = {'model__C': [0.001, 0.01, 0.1, 1, 10, 100]}"
   ]
  },
  {
   "cell_type": "code",
   "execution_count": 43,
   "metadata": {
    "collapsed": true
   },
   "outputs": [],
   "source": [
    "grid_log = GridSearchCV(pip_log, param_grid, scoring='roc_auc', cv=5)"
   ]
  },
  {
   "cell_type": "code",
   "execution_count": 44,
   "metadata": {},
   "outputs": [
    {
     "name": "stdout",
     "output_type": "stream",
     "text": [
      "Wall time: 1h 52min 10s\n"
     ]
    },
    {
     "data": {
      "text/plain": [
       "GridSearchCV(cv=5, error_score='raise',\n",
       "       estimator=Pipeline(memory=None,\n",
       "     steps=[('scaling', StandardScaler(copy=True, with_mean=0, with_std=True)), ('poly', PolynomialFeatures(degree=2, include_bias=False, interaction_only=True)), ('model', LogisticRegression(C=1.0, class_weight='balanced', dual=False,\n",
       "          fit_intercept=True, intercept_scaling=1, max_iter=100,\n",
       "          multi_class='ovr', n_jobs=1, penalty='l2', random_state=0,\n",
       "          solver='liblinear', tol=0.0001, verbose=0, warm_start=False))]),\n",
       "       fit_params=None, iid=True, n_jobs=1,\n",
       "       param_grid={'model__C': [0.001, 0.01, 0.1, 1, 10, 100]},\n",
       "       pre_dispatch='2*n_jobs', refit=True, return_train_score='warn',\n",
       "       scoring='roc_auc', verbose=0)"
      ]
     },
     "execution_count": 44,
     "metadata": {},
     "output_type": "execute_result"
    }
   ],
   "source": [
    "%%time\n",
    "grid_log.fit(X,y)"
   ]
  },
  {
   "cell_type": "code",
   "execution_count": 45,
   "metadata": {},
   "outputs": [
    {
     "name": "stderr",
     "output_type": "stream",
     "text": [
      "C:\\Users\\Dima\\Anaconda3\\lib\\site-packages\\sklearn\\model_selection\\_search.py:761: DeprecationWarning: The grid_scores_ attribute was deprecated in version 0.18 in favor of the more elaborate cv_results_ attribute. The grid_scores_ attribute will not be available from 0.20\n",
      "  DeprecationWarning)\n"
     ]
    },
    {
     "data": {
      "text/plain": [
       "[mean: 0.72774, std: 0.00562, params: {'model__C': 0.001},\n",
       " mean: 0.72797, std: 0.00568, params: {'model__C': 0.01},\n",
       " mean: 0.72806, std: 0.00582, params: {'model__C': 0.1},\n",
       " mean: 0.72812, std: 0.00590, params: {'model__C': 1},\n",
       " mean: 0.72815, std: 0.00592, params: {'model__C': 10},\n",
       " mean: 0.72814, std: 0.00593, params: {'model__C': 100}]"
      ]
     },
     "execution_count": 45,
     "metadata": {},
     "output_type": "execute_result"
    }
   ],
   "source": [
    "grid_log.grid_scores_"
   ]
  },
  {
   "cell_type": "markdown",
   "metadata": {},
   "source": [
    "Качетсво улучшилось, но все же уступает градиентному бистингу"
   ]
  },
  {
   "cell_type": "markdown",
   "metadata": {},
   "source": [
    "**Подбор параметров по сетке для Градинтного бустинга**"
   ]
  },
  {
   "cell_type": "code",
   "execution_count": 51,
   "metadata": {
    "collapsed": true
   },
   "outputs": [],
   "source": [
    "param_grid = {'learning_rate': [0.0025, 0.005, 0.0075, 0.01, 0.025, 0.05, 0.075, 0.1, 0.25, 0.5, 0.75, 1]}"
   ]
  },
  {
   "cell_type": "code",
   "execution_count": 52,
   "metadata": {
    "collapsed": true
   },
   "outputs": [],
   "source": [
    "model_4 = GradientBoostingClassifier(random_state=0, n_estimators=500)\n",
    "grid = GridSearchCV(model_4, param_grid, scoring='roc_auc', cv=5)"
   ]
  },
  {
   "cell_type": "code",
   "execution_count": 53,
   "metadata": {},
   "outputs": [
    {
     "name": "stdout",
     "output_type": "stream",
     "text": [
      "Wall time: 3h 9min 50s\n"
     ]
    },
    {
     "data": {
      "text/plain": [
       "GridSearchCV(cv=5, error_score='raise',\n",
       "       estimator=GradientBoostingClassifier(criterion='friedman_mse', init=None,\n",
       "              learning_rate=0.1, loss='deviance', max_depth=3,\n",
       "              max_features=None, max_leaf_nodes=None,\n",
       "              min_impurity_decrease=0.0, min_impurity_split=None,\n",
       "              min_samples_leaf=1, min_samples_split=2,\n",
       "              min_weight_fraction_leaf=0.0, n_estimators=500,\n",
       "              presort='auto', random_state=0, subsample=1.0, verbose=0,\n",
       "              warm_start=False),\n",
       "       fit_params=None, iid=True, n_jobs=1,\n",
       "       param_grid={'learning_rate': [0.0025, 0.005, 0.0075, 0.01, 0.025, 0.05, 0.075, 0.1, 0.25, 0.5, 0.75, 1]},\n",
       "       pre_dispatch='2*n_jobs', refit=True, return_train_score='warn',\n",
       "       scoring='roc_auc', verbose=0)"
      ]
     },
     "execution_count": 53,
     "metadata": {},
     "output_type": "execute_result"
    }
   ],
   "source": [
    "%%time\n",
    "grid.fit(X,y)"
   ]
  },
  {
   "cell_type": "code",
   "execution_count": 54,
   "metadata": {},
   "outputs": [
    {
     "name": "stderr",
     "output_type": "stream",
     "text": [
      "C:\\Users\\Dima\\Anaconda3\\lib\\site-packages\\sklearn\\model_selection\\_search.py:761: DeprecationWarning: The grid_scores_ attribute was deprecated in version 0.18 in favor of the more elaborate cv_results_ attribute. The grid_scores_ attribute will not be available from 0.20\n",
      "  DeprecationWarning)\n"
     ]
    },
    {
     "data": {
      "text/plain": [
       "[mean: 0.70652, std: 0.00405, params: {'learning_rate': 0.0025},\n",
       " mean: 0.71755, std: 0.00472, params: {'learning_rate': 0.005},\n",
       " mean: 0.72415, std: 0.00494, params: {'learning_rate': 0.0075},\n",
       " mean: 0.72806, std: 0.00510, params: {'learning_rate': 0.01},\n",
       " mean: 0.73555, std: 0.00495, params: {'learning_rate': 0.025},\n",
       " mean: 0.73676, std: 0.00490, params: {'learning_rate': 0.05},\n",
       " mean: 0.73655, std: 0.00505, params: {'learning_rate': 0.075},\n",
       " mean: 0.73640, std: 0.00517, params: {'learning_rate': 0.1},\n",
       " mean: 0.73304, std: 0.00494, params: {'learning_rate': 0.25},\n",
       " mean: 0.72387, std: 0.00473, params: {'learning_rate': 0.5},\n",
       " mean: 0.71155, std: 0.00356, params: {'learning_rate': 0.75},\n",
       " mean: 0.70148, std: 0.00423, params: {'learning_rate': 1}]"
      ]
     },
     "execution_count": 54,
     "metadata": {},
     "output_type": "execute_result"
    }
   ],
   "source": [
    "grid.grid_scores_"
   ]
  },
  {
   "cell_type": "code",
   "execution_count": 55,
   "metadata": {},
   "outputs": [
    {
     "data": {
      "text/plain": [
       "{'learning_rate': 0.05}"
      ]
     },
     "execution_count": 55,
     "metadata": {},
     "output_type": "execute_result"
    }
   ],
   "source": [
    "# лучшие параметры\n",
    "grid.best_params_"
   ]
  },
  {
   "cell_type": "markdown",
   "metadata": {
    "collapsed": true
   },
   "source": [
    "### 5. Сравнение ROC кривых<a class='anchor' id='5'></a>\n",
    "[в начало](#0)"
   ]
  },
  {
   "cell_type": "code",
   "execution_count": 327,
   "metadata": {},
   "outputs": [
    {
     "data": {
      "text/plain": [
       "<matplotlib.legend.Legend at 0x108cfb00>"
      ]
     },
     "execution_count": 327,
     "metadata": {},
     "output_type": "execute_result"
    },
    {
     "data": {
      "image/png": "[encoded data removed]",
      "text/plain": [
       "<matplotlib.figure.Figure at 0x108cfc88>"
      ]
     },
     "metadata": {},
     "output_type": "display_data"
    }
   ],
   "source": [
    "models = [PipModel(model_1), pip, PipModel(model_2), model_3, model_4]\n",
    "str_models = ['ЛогРег', 'ЛогРег+Полиномы', 'ЛинSVC', 'Случайный лес', 'ГрадБустинг']\n",
    "\n",
    "plt.figure(figsize=(16, 8)) \n",
    "for model, str_model in zip(models,str_models):\n",
    "    model.fit(X_train, y_train)\n",
    "    if (str_model in ['ЛинSVC']):\n",
    "        pred_scr = model.decision_function(X_valid)\n",
    "    else:\n",
    "        pred_scr = model.predict_proba(X_valid)[:, 1]\n",
    "    fpr, tpr, thresholds = roc_curve(y_valid, pred_scr)\n",
    "    plt.plot(fpr, tpr, label=str_model)\n",
    "\n",
    "plt.xlabel('False Positive Rate')\n",
    "plt.ylabel('True Positive Rate')\n",
    "plt.title('Receiver operating characteristic example')\n",
    "plt.legend(loc=\"lower right\")"
   ]
  },
  {
   "cell_type": "markdown",
   "metadata": {},
   "source": [
    "**В качестве итоговой модели берем Градиентный бутсинг с лучшим параметром по стеке**"
   ]
  },
  {
   "cell_type": "markdown",
   "metadata": {},
   "source": [
    "### 6. Получение прогнозов на тесте <a class='anchor' id='6'></a>\n",
    "[в начало](#0)"
   ]
  },
  {
   "cell_type": "markdown",
   "metadata": {},
   "source": [
    "Обучим модель на тестовых данных и загрузим результаты в kaggle"
   ]
  },
  {
   "cell_type": "code",
   "execution_count": 56,
   "metadata": {
    "collapsed": true
   },
   "outputs": [],
   "source": [
    "Model = GradientBoostingClassifier(random_state=0, learning_rate=0.05, n_estimators=500)"
   ]
  },
  {
   "cell_type": "code",
   "execution_count": 57,
   "metadata": {},
   "outputs": [
    {
     "name": "stdout",
     "output_type": "stream",
     "text": [
      "Wall time: 4min 1s\n"
     ]
    },
    {
     "data": {
      "text/plain": [
       "GradientBoostingClassifier(criterion='friedman_mse', init=None,\n",
       "              learning_rate=0.05, loss='deviance', max_depth=3,\n",
       "              max_features=None, max_leaf_nodes=None,\n",
       "              min_impurity_decrease=0.0, min_impurity_split=None,\n",
       "              min_samples_leaf=1, min_samples_split=2,\n",
       "              min_weight_fraction_leaf=0.0, n_estimators=500,\n",
       "              presort='auto', random_state=0, subsample=1.0, verbose=0,\n",
       "              warm_start=False)"
      ]
     },
     "execution_count": 57,
     "metadata": {},
     "output_type": "execute_result"
    }
   ],
   "source": [
    "%%time\n",
    "Model.fit(X,y)"
   ]
  },
  {
   "cell_type": "code",
   "execution_count": 58,
   "metadata": {
    "collapsed": true
   },
   "outputs": [],
   "source": [
    "test_pd = Model.decision_function(X_test)"
   ]
  },
  {
   "cell_type": "code",
   "execution_count": 59,
   "metadata": {},
   "outputs": [
    {
     "data": {
      "text/plain": [
       "(24480,)"
      ]
     },
     "execution_count": 59,
     "metadata": {},
     "output_type": "execute_result"
    }
   ],
   "source": [
    "test_pd.shape"
   ]
  },
  {
   "cell_type": "code",
   "execution_count": 60,
   "metadata": {
    "collapsed": true
   },
   "outputs": [],
   "source": [
    "data = pd.read_csv('application_info.csv', index_col='id')\n",
    "label = pd.read_csv('default_flg.csv') # подргузим id целевыt метки\n",
    "\n",
    "test_index  = data[data.sample_cd =='test'].sample_cd.index"
   ]
  },
  {
   "cell_type": "code",
   "execution_count": 61,
   "metadata": {},
   "outputs": [
    {
     "data": {
      "text/plain": [
       "(24480,)"
      ]
     },
     "execution_count": 61,
     "metadata": {},
     "output_type": "execute_result"
    }
   ],
   "source": [
    "test_index.shape"
   ]
  },
  {
   "cell_type": "code",
   "execution_count": 62,
   "metadata": {},
   "outputs": [
    {
     "name": "stdout",
     "output_type": "stream",
     "text": [
      "(24480, 1)\n"
     ]
    },
    {
     "data": {
      "text/html": [
       "<div>\n",
       "<style>\n",
       "    .dataframe thead tr:only-child th {\n",
       "        text-align: right;\n",
       "    }\n",
       "\n",
       "    .dataframe thead th {\n",
       "        text-align: left;\n",
       "    }\n",
       "\n",
       "    .dataframe tbody tr th {\n",
       "        vertical-align: top;\n",
       "    }\n",
       "</style>\n",
       "<table border=\"1\" class=\"dataframe\">\n",
       "  <thead>\n",
       "    <tr style=\"text-align: right;\">\n",
       "      <th></th>\n",
       "      <th>score</th>\n",
       "    </tr>\n",
       "    <tr>\n",
       "      <th>id</th>\n",
       "      <th></th>\n",
       "    </tr>\n",
       "  </thead>\n",
       "  <tbody>\n",
       "    <tr>\n",
       "      <th>180817</th>\n",
       "      <td>-2.379717</td>\n",
       "    </tr>\n",
       "    <tr>\n",
       "      <th>180818</th>\n",
       "      <td>-1.804977</td>\n",
       "    </tr>\n",
       "  </tbody>\n",
       "</table>\n",
       "</div>"
      ],
      "text/plain": [
       "           score\n",
       "id              \n",
       "180817 -2.379717\n",
       "180818 -1.804977"
      ]
     },
     "execution_count": 62,
     "metadata": {},
     "output_type": "execute_result"
    }
   ],
   "source": [
    "# test_pd = pd.DataFrame(test_pd, columns=['score'], index=test_index)\n",
    "test_pd2 = pd.DataFrame(test_pd, columns=['score'], index=test_index)\n",
    "test_pd2.to_csv('My_Submission_GB.csv')\n",
    "print(test_pd2.shape)\n",
    "test_pd2.head(2)"
   ]
  },
  {
   "cell_type": "markdown",
   "metadata": {
    "collapsed": true
   },
   "source": [
    "### [в начало](#0)"
   ]
  }
 ],
 "metadata": {
  "kernelspec": {
   "display_name": "Python 3",
   "language": "python",
   "name": "python3"
  },
  "language_info": {
   "codemirror_mode": {
    "name": "ipython",
    "version": 3
   },
   "file_extension": ".py",
   "mimetype": "text/x-python",
   "name": "python",
   "nbconvert_exporter": "python",
   "pygments_lexer": "ipython3",
   "version": "3.6.3"
  }
 },
 "nbformat": 4,
 "nbformat_minor": 2
}
