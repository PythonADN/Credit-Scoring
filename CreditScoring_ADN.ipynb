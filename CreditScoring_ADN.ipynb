{
 "cells": [
  {
   "cell_type": "markdown",
   "metadata": {
    "collapsed": true
   },
   "source": [
    "## Кредитный Скоринг\n",
    "\n",
    "https://www.kaggle.com/c/fintech-credit-scoring\n",
    "\n",
    "**В качестве итоговой модели был выбран Грдиентный бустинг, оценка roc-auc на тесте kaggle составила: 0.71826**\n",
    "\n",
    "#### Описание задачи\n",
    "Дана выборка заявок на кредитный продукт. Про заявителей известны различные данные на момент заполнения анкеты. По части выборки (train, validate) известны результаты пользования кредитом (случился дефолт или нет), а по другой части(test) результаты известны только организаторам. Необходимо извлечь зависимость из имеющихся данных о заявителях и фактом наличия дефолта, и предсказать результат на тестовых данных.\n",
    "В качестве метрики используется AUC"
   ]
  },
  {
   "cell_type": "markdown",
   "metadata": {},
   "source": [
    "## Оглавление:<a class='anchor' id='0'></a>\n",
    "1. [Предобработка данных:](#1)\n",
    "2. [Разбивка и подготовка данных](#2)\n",
    "3. [Создание конвеера и обучение моделей](#3)\n",
    "4. [Подбор параметров и анализ качества градиентного бустинга](#4)\n",
    "5. [Ансамблирование алгоритмов посредством стекинга](#5)\n",
    "6. [Сравнение ROC кривых](#6)\n",
    "7. [Получение прогнозов](#7)\n",
    "8. [Пользовательские функции](#8)"
   ]
  },
  {
   "cell_type": "code",
   "execution_count": 1,
   "metadata": {
    "collapsed": true
   },
   "outputs": [],
   "source": [
    "import pandas as pd\n",
    "import numpy as np\n",
    "from matplotlib import pylab as plt\n",
    "import seaborn as sns\n",
    "from sklearn.preprocessing import MinMaxScaler, StandardScaler\n",
    "from sklearn.model_selection import train_test_split, cross_val_score\n",
    "from sklearn import pipeline\n",
    "from sklearn.preprocessing import LabelEncoder, OneHotEncoder, FunctionTransformer\n",
    "from sklearn.linear_model import LogisticRegression\n",
    "from sklearn.ensemble import RandomForestClassifier, GradientBoostingClassifier\n",
    "from xgboost import XGBClassifier\n",
    "from sklearn.svm import LinearSVC\n",
    "from sklearn.model_selection import GridSearchCV\n",
    "from scipy import stats\n",
    "from sklearn.metrics import roc_auc_score, roc_curve\n",
    "import seaborn\n",
    "from sklearn.utils import shuffle\n",
    "from matplotlib import pylab as plt\n",
    "%matplotlib inline"
   ]
  },
  {
   "cell_type": "markdown",
   "metadata": {},
   "source": [
    "### 1. Предобработка данных <a class='anchor' id='1'></a>\n",
    "[в начало](#0)"
   ]
  },
  {
   "cell_type": "markdown",
   "metadata": {},
   "source": [
    "**Подгрузка данных**"
   ]
  },
  {
   "cell_type": "code",
   "execution_count": 2,
   "metadata": {
    "collapsed": true
   },
   "outputs": [],
   "source": [
    "data = pd.read_csv('application_info.csv') # подрузим выборки\n",
    "label = pd.read_csv('default_flg.csv') # подргузим целевые метки"
   ]
  },
  {
   "cell_type": "code",
   "execution_count": 3,
   "metadata": {},
   "outputs": [
    {
     "data": {
      "text/html": [
       "<div>\n",
       "<style scoped>\n",
       "    .dataframe tbody tr th:only-of-type {\n",
       "        vertical-align: middle;\n",
       "    }\n",
       "\n",
       "    .dataframe tbody tr th {\n",
       "        vertical-align: top;\n",
       "    }\n",
       "\n",
       "    .dataframe thead th {\n",
       "        text-align: right;\n",
       "    }\n",
       "</style>\n",
       "<table border=\"1\" class=\"dataframe\">\n",
       "  <thead>\n",
       "    <tr style=\"text-align: right;\">\n",
       "      <th></th>\n",
       "      <th>id</th>\n",
       "      <th>application_dt</th>\n",
       "      <th>sample_cd</th>\n",
       "      <th>education_cd</th>\n",
       "      <th>gender_cd</th>\n",
       "      <th>age</th>\n",
       "      <th>car_own_flg</th>\n",
       "      <th>car_type_flg</th>\n",
       "      <th>appl_rej_cnt</th>\n",
       "      <th>good_work_flg</th>\n",
       "      <th>Score_bki</th>\n",
       "      <th>out_request_cnt</th>\n",
       "      <th>region_rating</th>\n",
       "      <th>home_address_cd</th>\n",
       "      <th>work_address_cd</th>\n",
       "      <th>income</th>\n",
       "      <th>SNA</th>\n",
       "      <th>first_time_cd</th>\n",
       "      <th>Air_flg</th>\n",
       "    </tr>\n",
       "  </thead>\n",
       "  <tbody>\n",
       "    <tr>\n",
       "      <th>0</th>\n",
       "      <td>1</td>\n",
       "      <td>01JAN2014</td>\n",
       "      <td>train</td>\n",
       "      <td>SCH</td>\n",
       "      <td>M</td>\n",
       "      <td>27</td>\n",
       "      <td>Y</td>\n",
       "      <td>Y</td>\n",
       "      <td>0</td>\n",
       "      <td>0</td>\n",
       "      <td>-1.917831</td>\n",
       "      <td>0</td>\n",
       "      <td>40</td>\n",
       "      <td>2</td>\n",
       "      <td>3</td>\n",
       "      <td>32000</td>\n",
       "      <td>1</td>\n",
       "      <td>4</td>\n",
       "      <td>N</td>\n",
       "    </tr>\n",
       "    <tr>\n",
       "      <th>1</th>\n",
       "      <td>2</td>\n",
       "      <td>01JAN2014</td>\n",
       "      <td>train</td>\n",
       "      <td>GRD</td>\n",
       "      <td>F</td>\n",
       "      <td>26</td>\n",
       "      <td>N</td>\n",
       "      <td>N</td>\n",
       "      <td>0</td>\n",
       "      <td>0</td>\n",
       "      <td>-1.153144</td>\n",
       "      <td>2</td>\n",
       "      <td>60</td>\n",
       "      <td>2</td>\n",
       "      <td>3</td>\n",
       "      <td>50000</td>\n",
       "      <td>2</td>\n",
       "      <td>1</td>\n",
       "      <td>N</td>\n",
       "    </tr>\n",
       "    <tr>\n",
       "      <th>2</th>\n",
       "      <td>3</td>\n",
       "      <td>01JAN2014</td>\n",
       "      <td>train</td>\n",
       "      <td>SCH</td>\n",
       "      <td>M</td>\n",
       "      <td>35</td>\n",
       "      <td>N</td>\n",
       "      <td>N</td>\n",
       "      <td>0</td>\n",
       "      <td>1</td>\n",
       "      <td>-1.732810</td>\n",
       "      <td>0</td>\n",
       "      <td>40</td>\n",
       "      <td>1</td>\n",
       "      <td>2</td>\n",
       "      <td>20000</td>\n",
       "      <td>4</td>\n",
       "      <td>3</td>\n",
       "      <td>N</td>\n",
       "    </tr>\n",
       "    <tr>\n",
       "      <th>3</th>\n",
       "      <td>4</td>\n",
       "      <td>01JAN2014</td>\n",
       "      <td>train</td>\n",
       "      <td>GRD</td>\n",
       "      <td>F</td>\n",
       "      <td>35</td>\n",
       "      <td>N</td>\n",
       "      <td>N</td>\n",
       "      <td>0</td>\n",
       "      <td>1</td>\n",
       "      <td>-2.552133</td>\n",
       "      <td>2</td>\n",
       "      <td>20</td>\n",
       "      <td>2</td>\n",
       "      <td>3</td>\n",
       "      <td>80000</td>\n",
       "      <td>1</td>\n",
       "      <td>3</td>\n",
       "      <td>N</td>\n",
       "    </tr>\n",
       "    <tr>\n",
       "      <th>4</th>\n",
       "      <td>5</td>\n",
       "      <td>01JAN2014</td>\n",
       "      <td>train</td>\n",
       "      <td>UGR</td>\n",
       "      <td>F</td>\n",
       "      <td>24</td>\n",
       "      <td>N</td>\n",
       "      <td>N</td>\n",
       "      <td>0</td>\n",
       "      <td>0</td>\n",
       "      <td>-1.914581</td>\n",
       "      <td>1</td>\n",
       "      <td>50</td>\n",
       "      <td>2</td>\n",
       "      <td>3</td>\n",
       "      <td>27000</td>\n",
       "      <td>1</td>\n",
       "      <td>2</td>\n",
       "      <td>N</td>\n",
       "    </tr>\n",
       "  </tbody>\n",
       "</table>\n",
       "</div>"
      ],
      "text/plain": [
       "   id application_dt sample_cd education_cd gender_cd  age car_own_flg  \\\n",
       "0   1      01JAN2014     train          SCH         M   27           Y   \n",
       "1   2      01JAN2014     train          GRD         F   26           N   \n",
       "2   3      01JAN2014     train          SCH         M   35           N   \n",
       "3   4      01JAN2014     train          GRD         F   35           N   \n",
       "4   5      01JAN2014     train          UGR         F   24           N   \n",
       "\n",
       "  car_type_flg  appl_rej_cnt  good_work_flg  Score_bki  out_request_cnt  \\\n",
       "0            Y             0              0  -1.917831                0   \n",
       "1            N             0              0  -1.153144                2   \n",
       "2            N             0              1  -1.732810                0   \n",
       "3            N             0              1  -2.552133                2   \n",
       "4            N             0              0  -1.914581                1   \n",
       "\n",
       "   region_rating  home_address_cd  work_address_cd  income  SNA  \\\n",
       "0             40                2                3   32000    1   \n",
       "1             60                2                3   50000    2   \n",
       "2             40                1                2   20000    4   \n",
       "3             20                2                3   80000    1   \n",
       "4             50                2                3   27000    1   \n",
       "\n",
       "   first_time_cd Air_flg  \n",
       "0              4       N  \n",
       "1              1       N  \n",
       "2              3       N  \n",
       "3              3       N  \n",
       "4              2       N  "
      ]
     },
     "execution_count": 3,
     "metadata": {},
     "output_type": "execute_result"
    }
   ],
   "source": [
    "data.head()"
   ]
  },
  {
   "cell_type": "code",
   "execution_count": 4,
   "metadata": {
    "collapsed": true
   },
   "outputs": [],
   "source": [
    "# label.head() # целевые метки"
   ]
  },
  {
   "cell_type": "markdown",
   "metadata": {},
   "source": [
    "**Описание признаков:**\n",
    "- id - Анонимизированный идентификатор заявителя\n",
    "- application_dt - Дата подачи заявки\n",
    "- sample_cd - Категория выборки\n",
    "- education_cd - Образование\n",
    "- gender_cd - Пол\n",
    "- age - Возраст\n",
    "- car_own_flg - Флаг наличия автомобиля\n",
    "- car_type_flg - Флаг наличия иномарки\n",
    "- appl_rej_cnt - Количество отказанных прошлых заявок\n",
    "- good_work_flg - Флаг наличия \"хорошей\" работы\n",
    "- Score_bki - Скор балл по данным из бюро кредитных историй\n",
    "- out_request_cnt - Количество запросов в бюро\n",
    "- region_rating - Рейтинг региона\n",
    "- home_address_cd - Категоризатор домашнего адреса\n",
    "- work_address_cd - Категоризатор рабочего адреса\n",
    "- income - Доход заявителя\n",
    "- SNA - Связь заявителя с клиентами\n",
    "- first_time_cd - Давность наличия информации о заявителе\n",
    "- Air_flg - Наличие загран паспорта\n",
    "- default_flg - Флаг дефолта по кредиту"
   ]
  },
  {
   "cell_type": "markdown",
   "metadata": {},
   "source": [
    "Сразу удалю лишние данные в таблице (sample_cd и id)"
   ]
  },
  {
   "cell_type": "code",
   "execution_count": 5,
   "metadata": {
    "collapsed": true
   },
   "outputs": [],
   "source": [
    "# data[:110148] # train\n",
    "# data[110148:180816] # validate\n",
    "# data[180816:] # test"
   ]
  },
  {
   "cell_type": "code",
   "execution_count": 6,
   "metadata": {
    "collapsed": true
   },
   "outputs": [],
   "source": [
    "data.drop('sample_cd', axis=1, inplace=True)\n",
    "data.drop('id', axis=1, inplace=True)"
   ]
  },
  {
   "cell_type": "markdown",
   "metadata": {},
   "source": [
    "**Типы полей (признаков)**"
   ]
  },
  {
   "cell_type": "code",
   "execution_count": 7,
   "metadata": {},
   "outputs": [
    {
     "data": {
      "text/plain": [
       "application_dt      object\n",
       "education_cd        object\n",
       "gender_cd           object\n",
       "age                  int64\n",
       "car_own_flg         object\n",
       "car_type_flg        object\n",
       "appl_rej_cnt         int64\n",
       "good_work_flg        int64\n",
       "Score_bki          float64\n",
       "out_request_cnt      int64\n",
       "region_rating        int64\n",
       "home_address_cd      int64\n",
       "work_address_cd      int64\n",
       "income               int64\n",
       "SNA                  int64\n",
       "first_time_cd        int64\n",
       "Air_flg             object\n",
       "dtype: object"
      ]
     },
     "execution_count": 7,
     "metadata": {},
     "output_type": "execute_result"
    }
   ],
   "source": [
    "data.dtypes"
   ]
  },
  {
   "cell_type": "markdown",
   "metadata": {},
   "source": [
    "**Несбалансированность классов**"
   ]
  },
  {
   "cell_type": "code",
   "execution_count": 8,
   "metadata": {},
   "outputs": [
    {
     "data": {
      "text/plain": [
       "0    159982\n",
       "1     20834\n",
       "Name: default_flg, dtype: int64"
      ]
     },
     "execution_count": 8,
     "metadata": {},
     "output_type": "execute_result"
    }
   ],
   "source": [
    "label.default_flg.value_counts()"
   ]
  },
  {
   "cell_type": "markdown",
   "metadata": {},
   "source": [
    "Присутствует несбалансированность классов -> Будем учитывать это при построении моделей (class_weight='balanced')"
   ]
  },
  {
   "cell_type": "markdown",
   "metadata": {},
   "source": [
    "**Исследуем поля на пропуски**"
   ]
  },
  {
   "cell_type": "code",
   "execution_count": 9,
   "metadata": {},
   "outputs": [
    {
     "data": {
      "text/plain": [
       "application_dt       0\n",
       "education_cd       912\n",
       "gender_cd            0\n",
       "age                  0\n",
       "car_own_flg          0\n",
       "car_type_flg         0\n",
       "appl_rej_cnt         0\n",
       "good_work_flg        0\n",
       "Score_bki            0\n",
       "out_request_cnt      0\n",
       "region_rating        0\n",
       "home_address_cd      0\n",
       "work_address_cd      0\n",
       "income               0\n",
       "SNA                  0\n",
       "first_time_cd        0\n",
       "Air_flg              0\n",
       "dtype: int64"
      ]
     },
     "execution_count": 9,
     "metadata": {},
     "output_type": "execute_result"
    }
   ],
   "source": [
    "data.isnull().sum()"
   ]
  },
  {
   "cell_type": "markdown",
   "metadata": {},
   "source": [
    "Признак education_cd (образование) имеет пропуски. Проверим возможные значения данного признака и будем думать на что заменим пропуски."
   ]
  },
  {
   "cell_type": "code",
   "execution_count": 10,
   "metadata": {},
   "outputs": [
    {
     "data": {
      "text/plain": [
       "SCH    100234\n",
       "GRD     71417\n",
       "UGR     28284\n",
       "PGR      3841\n",
       "ACD       608\n",
       "Name: education_cd, dtype: int64"
      ]
     },
     "execution_count": 10,
     "metadata": {},
     "output_type": "execute_result"
    }
   ],
   "source": [
    "data.education_cd.value_counts() # возможные значения признака education_cd (образование)"
   ]
  },
  {
   "cell_type": "code",
   "execution_count": 11,
   "metadata": {
    "collapsed": true
   },
   "outputs": [],
   "source": [
    "# заменим пропуски в данном поле на 'NaN' (не указано)\n",
    "data.fillna('NAN', inplace=True)"
   ]
  },
  {
   "cell_type": "code",
   "execution_count": 12,
   "metadata": {},
   "outputs": [
    {
     "data": {
      "text/plain": [
       "SCH    100234\n",
       "GRD     71417\n",
       "UGR     28284\n",
       "PGR      3841\n",
       "NAN       912\n",
       "ACD       608\n",
       "Name: education_cd, dtype: int64"
      ]
     },
     "execution_count": 12,
     "metadata": {},
     "output_type": "execute_result"
    }
   ],
   "source": [
    "data.education_cd.value_counts()"
   ]
  },
  {
   "cell_type": "code",
   "execution_count": 13,
   "metadata": {
    "collapsed": true
   },
   "outputs": [],
   "source": [
    "# data.isnull().sum()"
   ]
  },
  {
   "cell_type": "markdown",
   "metadata": {},
   "source": [
    "**Анализ признаков на нормальность посредством Q-Q графика**"
   ]
  },
  {
   "cell_type": "code",
   "execution_count": 14,
   "metadata": {},
   "outputs": [
    {
     "data": {
      "image/png": "[encoded data removed]",
      "text/plain": [
       "<matplotlib.figure.Figure at 0xb179780>"
      ]
     },
     "metadata": {},
     "output_type": "display_data"
    }
   ],
   "source": [
    "plt.figure(figsize=(12,10))\n",
    "plt.subplot(2,2,1)\n",
    "stats.probplot(data.income, dist=\"norm\", plot=plt) # Q-Q график для income \n",
    "plt.title('income')\n",
    "plt.subplot(2,2,2)\n",
    "stats.probplot(np.log(data.income), dist=\"norm\", plot=plt) # Q-Q график для age\n",
    "plt.title('log_income')\n",
    "plt.subplot(2,2,3)\n",
    "plt.hist(data.income, color='red')\n",
    "plt.title('доход')\n",
    "plt.xlabel('частота')\n",
    "plt.ylabel('значение')\n",
    "plt.subplot(2,2,4)\n",
    "plt.hist(np.log(data.income), color='green')\n",
    "plt.title('логорифм дохода')\n",
    "plt.xlabel('частота')\n",
    "plt.ylabel('значение')\n",
    "plt.show()"
   ]
  },
  {
   "cell_type": "markdown",
   "metadata": {},
   "source": [
    "Q-Q график показывает, что логорифмирование признака income позволяет получить нормальное распределение.\n",
    "Критерий Шапира-Уилка опустил в силу большой выборки (он работает на данных не превышающийх 5000 наблюдений)\n",
    "\n",
    "Изменим данный признак на логарифм от income:"
   ]
  },
  {
   "cell_type": "code",
   "execution_count": 15,
   "metadata": {
    "collapsed": true
   },
   "outputs": [],
   "source": [
    "data['log_income'] = data.income.apply(lambda x: np.log(x)) # добавим признак log_income (логарифм дохода)\n",
    "data.drop('income', axis=1, inplace=True) # удалим признак income (Доход)"
   ]
  },
  {
   "cell_type": "markdown",
   "metadata": {},
   "source": [
    "**Обработка категориальных признаков и даты**"
   ]
  },
  {
   "cell_type": "markdown",
   "metadata": {},
   "source": [
    "Признак application_dt (Дата подачи заявки) разделим на 2 признака: день месяца, месяц. Год вообще нет смысла рассматривать в силу того, что обучающая выборка заканчивается в конце 2014 года, а тестовая начинается только с 1 января 2015. Подобное разбиение может помочь в обнаружении временной цикличности."
   ]
  },
  {
   "cell_type": "code",
   "execution_count": 16,
   "metadata": {
    "collapsed": true
   },
   "outputs": [],
   "source": [
    "data['day_application'] = data.application_dt.apply(lambda x: int(x[0:2])) # создаем признак (день подачи заявки)\n",
    "data['month_application'] = data.application_dt.apply(lambda x: x[2:5]) # создаем признак (месяц подачи заявки)\n",
    "\n",
    "data.drop('application_dt', axis=1, inplace=True) # удалим признак (Дата подачи заявки)"
   ]
  },
  {
   "cell_type": "markdown",
   "metadata": {},
   "source": [
    "Попробуем кодировать категориальные переменные через LabelEncoder:"
   ]
  },
  {
   "cell_type": "code",
   "execution_count": 17,
   "metadata": {
    "collapsed": true
   },
   "outputs": [],
   "source": [
    "# функция кодирования заданных категориальных признаков\n",
    "def Encoder_LabelEncoder(fields): # fields - список признаков\n",
    "    encoder = LabelEncoder()\n",
    "    for f in fields:\n",
    "        data[f] = encoder.fit_transform(data[f])"
   ]
  },
  {
   "cell_type": "code",
   "execution_count": 18,
   "metadata": {
    "collapsed": true
   },
   "outputs": [],
   "source": [
    "# произведем кодирование для бинарных и категориальных\n",
    "Encoder_LabelEncoder(['gender_cd', 'car_own_flg', 'car_type_flg', 'Air_flg'])\n",
    "Encoder_LabelEncoder(['education_cd', 'day_application', 'month_application']) "
   ]
  },
  {
   "cell_type": "code",
   "execution_count": 19,
   "metadata": {},
   "outputs": [
    {
     "data": {
      "text/html": [
       "<div>\n",
       "<style scoped>\n",
       "    .dataframe tbody tr th:only-of-type {\n",
       "        vertical-align: middle;\n",
       "    }\n",
       "\n",
       "    .dataframe tbody tr th {\n",
       "        vertical-align: top;\n",
       "    }\n",
       "\n",
       "    .dataframe thead th {\n",
       "        text-align: right;\n",
       "    }\n",
       "</style>\n",
       "<table border=\"1\" class=\"dataframe\">\n",
       "  <thead>\n",
       "    <tr style=\"text-align: right;\">\n",
       "      <th></th>\n",
       "      <th>gender_cd</th>\n",
       "      <th>car_own_flg</th>\n",
       "      <th>car_type_flg</th>\n",
       "      <th>Air_flg</th>\n",
       "      <th>education_cd</th>\n",
       "      <th>day_application</th>\n",
       "      <th>month_application</th>\n",
       "    </tr>\n",
       "  </thead>\n",
       "  <tbody>\n",
       "    <tr>\n",
       "      <th>0</th>\n",
       "      <td>1</td>\n",
       "      <td>1</td>\n",
       "      <td>1</td>\n",
       "      <td>0</td>\n",
       "      <td>4</td>\n",
       "      <td>0</td>\n",
       "      <td>3</td>\n",
       "    </tr>\n",
       "    <tr>\n",
       "      <th>1</th>\n",
       "      <td>0</td>\n",
       "      <td>0</td>\n",
       "      <td>0</td>\n",
       "      <td>0</td>\n",
       "      <td>1</td>\n",
       "      <td>0</td>\n",
       "      <td>3</td>\n",
       "    </tr>\n",
       "    <tr>\n",
       "      <th>2</th>\n",
       "      <td>1</td>\n",
       "      <td>0</td>\n",
       "      <td>0</td>\n",
       "      <td>0</td>\n",
       "      <td>4</td>\n",
       "      <td>0</td>\n",
       "      <td>3</td>\n",
       "    </tr>\n",
       "    <tr>\n",
       "      <th>3</th>\n",
       "      <td>0</td>\n",
       "      <td>0</td>\n",
       "      <td>0</td>\n",
       "      <td>0</td>\n",
       "      <td>1</td>\n",
       "      <td>0</td>\n",
       "      <td>3</td>\n",
       "    </tr>\n",
       "    <tr>\n",
       "      <th>4</th>\n",
       "      <td>0</td>\n",
       "      <td>0</td>\n",
       "      <td>0</td>\n",
       "      <td>0</td>\n",
       "      <td>5</td>\n",
       "      <td>0</td>\n",
       "      <td>3</td>\n",
       "    </tr>\n",
       "  </tbody>\n",
       "</table>\n",
       "</div>"
      ],
      "text/plain": [
       "   gender_cd  car_own_flg  car_type_flg  Air_flg  education_cd  \\\n",
       "0          1            1             1        0             4   \n",
       "1          0            0             0        0             1   \n",
       "2          1            0             0        0             4   \n",
       "3          0            0             0        0             1   \n",
       "4          0            0             0        0             5   \n",
       "\n",
       "   day_application  month_application  \n",
       "0                0                  3  \n",
       "1                0                  3  \n",
       "2                0                  3  \n",
       "3                0                  3  \n",
       "4                0                  3  "
      ]
     },
     "execution_count": 19,
     "metadata": {},
     "output_type": "execute_result"
    }
   ],
   "source": [
    "data[['gender_cd', 'car_own_flg', 'car_type_flg', 'Air_flg','education_cd', 'day_application', 'month_application']].head()\n",
    "# data.dtypes"
   ]
  },
  {
   "cell_type": "markdown",
   "metadata": {},
   "source": [
    "В дальнейшем, возможно произведем бининг (разбивка на карманы и прямое кодирование) для вещественных и некоторых целых признаков"
   ]
  },
  {
   "cell_type": "markdown",
   "metadata": {},
   "source": [
    "**Коллинеарность признаков**"
   ]
  },
  {
   "cell_type": "code",
   "execution_count": 21,
   "metadata": {
    "collapsed": true
   },
   "outputs": [],
   "source": [
    "Corr_Total = data.ix[:, 1:].corr(method='pearson') # корреляция всех признаков\n",
    "Corr_Cnt = data.corrwith(label.default_flg) # корреляция Цели от всех признаков"
   ]
  },
  {
   "cell_type": "markdown",
   "metadata": {},
   "source": [
    "Корреляция с целевой меткой"
   ]
  },
  {
   "cell_type": "code",
   "execution_count": 22,
   "metadata": {},
   "outputs": [
    {
     "data": {
      "text/plain": [
       "first_time_cd       -0.096150\n",
       "region_rating       -0.089609\n",
       "Air_flg             -0.063867\n",
       "log_income          -0.052704\n",
       "car_type_flg        -0.050112\n",
       "good_work_flg       -0.047367\n",
       "car_own_flg         -0.035595\n",
       "age                 -0.025964\n",
       "month_application   -0.005962\n",
       "day_application     -0.004641\n",
       "gender_cd            0.020321\n",
       "home_address_cd      0.055765\n",
       "work_address_cd      0.056023\n",
       "out_request_cnt      0.065223\n",
       "education_cd         0.077207\n",
       "appl_rej_cnt         0.107177\n",
       "SNA                  0.122386\n",
       "Score_bki            0.170857\n",
       "dtype: float64"
      ]
     },
     "execution_count": 22,
     "metadata": {},
     "output_type": "execute_result"
    }
   ],
   "source": [
    "Corr_Cnt.sort_values()"
   ]
  },
  {
   "cell_type": "markdown",
   "metadata": {},
   "source": [
    "Значение **целевой метки** относительно сильно коррелирует со следующими признаками:\n",
    "* Score_bki (Скор балл по данным из бюро кредитных историй) = 17%\n",
    "* SNA (Связь заявителя с клиентами) = 12%\n",
    "* appl_rej_cnt (Количество отказанных прошлых заявок) = 11%\n",
    "* first_time_cd (Давность наличия информации о заявителя) = -10%\n",
    "* region_rating (Рейтинг региона) = -9%\n",
    "* education_cd (Образование) = 8%\n",
    "* out_request_cnt (Количество запросов в бюро) = 6.5%"
   ]
  },
  {
   "cell_type": "markdown",
   "metadata": {},
   "source": [
    "Коллинеарность признаков:"
   ]
  },
  {
   "cell_type": "code",
   "execution_count": 23,
   "metadata": {},
   "outputs": [
    {
     "data": {
      "text/html": [
       "<div>\n",
       "<style scoped>\n",
       "    .dataframe tbody tr th:only-of-type {\n",
       "        vertical-align: middle;\n",
       "    }\n",
       "\n",
       "    .dataframe tbody tr th {\n",
       "        vertical-align: top;\n",
       "    }\n",
       "\n",
       "    .dataframe thead th {\n",
       "        text-align: right;\n",
       "    }\n",
       "</style>\n",
       "<table border=\"1\" class=\"dataframe\">\n",
       "  <thead>\n",
       "    <tr style=\"text-align: right;\">\n",
       "      <th></th>\n",
       "      <th>max</th>\n",
       "    </tr>\n",
       "  </thead>\n",
       "  <tbody>\n",
       "    <tr>\n",
       "      <th>home_address_cd</th>\n",
       "      <td>0.740874</td>\n",
       "    </tr>\n",
       "    <tr>\n",
       "      <th>work_address_cd</th>\n",
       "      <td>0.740874</td>\n",
       "    </tr>\n",
       "    <tr>\n",
       "      <th>car_own_flg</th>\n",
       "      <td>0.700206</td>\n",
       "    </tr>\n",
       "    <tr>\n",
       "      <th>car_type_flg</th>\n",
       "      <td>0.700206</td>\n",
       "    </tr>\n",
       "    <tr>\n",
       "      <th>log_income</th>\n",
       "      <td>0.367215</td>\n",
       "    </tr>\n",
       "  </tbody>\n",
       "</table>\n",
       "</div>"
      ],
      "text/plain": [
       "                      max\n",
       "home_address_cd  0.740874\n",
       "work_address_cd  0.740874\n",
       "car_own_flg      0.700206\n",
       "car_type_flg     0.700206\n",
       "log_income       0.367215"
      ]
     },
     "execution_count": 23,
     "metadata": {},
     "output_type": "execute_result"
    }
   ],
   "source": [
    "max_corr = pd.DataFrame(Corr_Total.apply(lambda x : np.max(list(filter(lambda x: x!=1., x))), axis = 1))\n",
    "max_corr.columns = ['max']\n",
    "max_corr.sort_values(by = 'max', ascending = False).head()"
   ]
  },
  {
   "cell_type": "markdown",
   "metadata": {},
   "source": [
    "* Домашний адрес сильно коррелирует с рабочим адресом = 74%\n",
    "* Наличия машины и Иномарка = 70%\n",
    "* Доход заявителя и Наличие иномарки 31%"
   ]
  },
  {
   "cell_type": "code",
   "execution_count": 24,
   "metadata": {},
   "outputs": [
    {
     "data": {
      "text/html": [
       "<div>\n",
       "<style scoped>\n",
       "    .dataframe tbody tr th:only-of-type {\n",
       "        vertical-align: middle;\n",
       "    }\n",
       "\n",
       "    .dataframe tbody tr th {\n",
       "        vertical-align: top;\n",
       "    }\n",
       "\n",
       "    .dataframe thead th {\n",
       "        text-align: right;\n",
       "    }\n",
       "</style>\n",
       "<table border=\"1\" class=\"dataframe\">\n",
       "  <thead>\n",
       "    <tr style=\"text-align: right;\">\n",
       "      <th></th>\n",
       "      <th>min</th>\n",
       "    </tr>\n",
       "  </thead>\n",
       "  <tbody>\n",
       "    <tr>\n",
       "      <th>first_time_cd</th>\n",
       "      <td>-0.543833</td>\n",
       "    </tr>\n",
       "    <tr>\n",
       "      <th>SNA</th>\n",
       "      <td>-0.543833</td>\n",
       "    </tr>\n",
       "    <tr>\n",
       "      <th>Air_flg</th>\n",
       "      <td>-0.179766</td>\n",
       "    </tr>\n",
       "    <tr>\n",
       "      <th>log_income</th>\n",
       "      <td>-0.139277</td>\n",
       "    </tr>\n",
       "    <tr>\n",
       "      <th>age</th>\n",
       "      <td>-0.134972</td>\n",
       "    </tr>\n",
       "  </tbody>\n",
       "</table>\n",
       "</div>"
      ],
      "text/plain": [
       "                    min\n",
       "first_time_cd -0.543833\n",
       "SNA           -0.543833\n",
       "Air_flg       -0.179766\n",
       "log_income    -0.139277\n",
       "age           -0.134972"
      ]
     },
     "execution_count": 24,
     "metadata": {},
     "output_type": "execute_result"
    }
   ],
   "source": [
    "min_corr = pd.DataFrame(Corr_Total.min())\n",
    "min_corr.columns = ['min']\n",
    "min_corr.sort_values(by = 'min').head()"
   ]
  },
  {
   "cell_type": "markdown",
   "metadata": {},
   "source": [
    "* Связь заявителя с клиентами и Давность наличия информации о заявителе = -54%\n",
    "* Обазование и Доход заявителя = -21%\n",
    "* Наличие загран паспорта и Связь заявителя с клиентами = -18%"
   ]
  },
  {
   "cell_type": "markdown",
   "metadata": {},
   "source": [
    "**Матрица попарных корреляций**"
   ]
  },
  {
   "cell_type": "code",
   "execution_count": 25,
   "metadata": {},
   "outputs": [
    {
     "data": {
      "image/png": "[encoded data removed]",
      "text/plain": [
       "<matplotlib.figure.Figure at 0xb373e48>"
      ]
     },
     "metadata": {},
     "output_type": "display_data"
    }
   ],
   "source": [
    "plt.figure(figsize=(10,10))\n",
    "seaborn.heatmap(data.corr(), square=True);"
   ]
  },
  {
   "cell_type": "markdown",
   "metadata": {},
   "source": [
    "Признаков достаточно мало и мы не будем выкидывать взаимозависимые, тем более в линейной модели используется регуляризация. Однако будем иметь ввиду, что признаки: наличие автомобиля и иномарки, а так же домашний и рабочий адрес сильно коррелируемы между собой"
   ]
  },
  {
   "cell_type": "markdown",
   "metadata": {},
   "source": [
    "### 2. Разбивка и подготовка данных <a class='anchor' id='2'></a>\n",
    "[в начало](#0)"
   ]
  },
  {
   "cell_type": "code",
   "execution_count": 20,
   "metadata": {},
   "outputs": [
    {
     "data": {
      "text/html": [
       "<div>\n",
       "<style scoped>\n",
       "    .dataframe tbody tr th:only-of-type {\n",
       "        vertical-align: middle;\n",
       "    }\n",
       "\n",
       "    .dataframe tbody tr th {\n",
       "        vertical-align: top;\n",
       "    }\n",
       "\n",
       "    .dataframe thead th {\n",
       "        text-align: right;\n",
       "    }\n",
       "</style>\n",
       "<table border=\"1\" class=\"dataframe\">\n",
       "  <thead>\n",
       "    <tr style=\"text-align: right;\">\n",
       "      <th></th>\n",
       "      <th>education_cd</th>\n",
       "      <th>gender_cd</th>\n",
       "      <th>age</th>\n",
       "      <th>car_own_flg</th>\n",
       "      <th>car_type_flg</th>\n",
       "      <th>appl_rej_cnt</th>\n",
       "      <th>good_work_flg</th>\n",
       "      <th>Score_bki</th>\n",
       "      <th>out_request_cnt</th>\n",
       "      <th>region_rating</th>\n",
       "      <th>home_address_cd</th>\n",
       "      <th>work_address_cd</th>\n",
       "      <th>SNA</th>\n",
       "      <th>first_time_cd</th>\n",
       "      <th>Air_flg</th>\n",
       "      <th>log_income</th>\n",
       "      <th>day_application</th>\n",
       "      <th>month_application</th>\n",
       "    </tr>\n",
       "  </thead>\n",
       "  <tbody>\n",
       "    <tr>\n",
       "      <th>0</th>\n",
       "      <td>4</td>\n",
       "      <td>1</td>\n",
       "      <td>27</td>\n",
       "      <td>1</td>\n",
       "      <td>1</td>\n",
       "      <td>0</td>\n",
       "      <td>0</td>\n",
       "      <td>-1.917831</td>\n",
       "      <td>0</td>\n",
       "      <td>40</td>\n",
       "      <td>2</td>\n",
       "      <td>3</td>\n",
       "      <td>1</td>\n",
       "      <td>4</td>\n",
       "      <td>0</td>\n",
       "      <td>10.373491</td>\n",
       "      <td>0</td>\n",
       "      <td>3</td>\n",
       "    </tr>\n",
       "    <tr>\n",
       "      <th>1</th>\n",
       "      <td>1</td>\n",
       "      <td>0</td>\n",
       "      <td>26</td>\n",
       "      <td>0</td>\n",
       "      <td>0</td>\n",
       "      <td>0</td>\n",
       "      <td>0</td>\n",
       "      <td>-1.153144</td>\n",
       "      <td>2</td>\n",
       "      <td>60</td>\n",
       "      <td>2</td>\n",
       "      <td>3</td>\n",
       "      <td>2</td>\n",
       "      <td>1</td>\n",
       "      <td>0</td>\n",
       "      <td>10.819778</td>\n",
       "      <td>0</td>\n",
       "      <td>3</td>\n",
       "    </tr>\n",
       "    <tr>\n",
       "      <th>2</th>\n",
       "      <td>4</td>\n",
       "      <td>1</td>\n",
       "      <td>35</td>\n",
       "      <td>0</td>\n",
       "      <td>0</td>\n",
       "      <td>0</td>\n",
       "      <td>1</td>\n",
       "      <td>-1.732810</td>\n",
       "      <td>0</td>\n",
       "      <td>40</td>\n",
       "      <td>1</td>\n",
       "      <td>2</td>\n",
       "      <td>4</td>\n",
       "      <td>3</td>\n",
       "      <td>0</td>\n",
       "      <td>9.903488</td>\n",
       "      <td>0</td>\n",
       "      <td>3</td>\n",
       "    </tr>\n",
       "    <tr>\n",
       "      <th>3</th>\n",
       "      <td>1</td>\n",
       "      <td>0</td>\n",
       "      <td>35</td>\n",
       "      <td>0</td>\n",
       "      <td>0</td>\n",
       "      <td>0</td>\n",
       "      <td>1</td>\n",
       "      <td>-2.552133</td>\n",
       "      <td>2</td>\n",
       "      <td>20</td>\n",
       "      <td>2</td>\n",
       "      <td>3</td>\n",
       "      <td>1</td>\n",
       "      <td>3</td>\n",
       "      <td>0</td>\n",
       "      <td>11.289782</td>\n",
       "      <td>0</td>\n",
       "      <td>3</td>\n",
       "    </tr>\n",
       "    <tr>\n",
       "      <th>4</th>\n",
       "      <td>5</td>\n",
       "      <td>0</td>\n",
       "      <td>24</td>\n",
       "      <td>0</td>\n",
       "      <td>0</td>\n",
       "      <td>0</td>\n",
       "      <td>0</td>\n",
       "      <td>-1.914581</td>\n",
       "      <td>1</td>\n",
       "      <td>50</td>\n",
       "      <td>2</td>\n",
       "      <td>3</td>\n",
       "      <td>1</td>\n",
       "      <td>2</td>\n",
       "      <td>0</td>\n",
       "      <td>10.203592</td>\n",
       "      <td>0</td>\n",
       "      <td>3</td>\n",
       "    </tr>\n",
       "  </tbody>\n",
       "</table>\n",
       "</div>"
      ],
      "text/plain": [
       "   education_cd  gender_cd  age  car_own_flg  car_type_flg  appl_rej_cnt  \\\n",
       "0             4          1   27            1             1             0   \n",
       "1             1          0   26            0             0             0   \n",
       "2             4          1   35            0             0             0   \n",
       "3             1          0   35            0             0             0   \n",
       "4             5          0   24            0             0             0   \n",
       "\n",
       "   good_work_flg  Score_bki  out_request_cnt  region_rating  home_address_cd  \\\n",
       "0              0  -1.917831                0             40                2   \n",
       "1              0  -1.153144                2             60                2   \n",
       "2              1  -1.732810                0             40                1   \n",
       "3              1  -2.552133                2             20                2   \n",
       "4              0  -1.914581                1             50                2   \n",
       "\n",
       "   work_address_cd  SNA  first_time_cd  Air_flg  log_income  day_application  \\\n",
       "0                3    1              4        0   10.373491                0   \n",
       "1                3    2              1        0   10.819778                0   \n",
       "2                2    4              3        0    9.903488                0   \n",
       "3                3    1              3        0   11.289782                0   \n",
       "4                3    1              2        0   10.203592                0   \n",
       "\n",
       "   month_application  \n",
       "0                  3  \n",
       "1                  3  \n",
       "2                  3  \n",
       "3                  3  \n",
       "4                  3  "
      ]
     },
     "execution_count": 20,
     "metadata": {},
     "output_type": "execute_result"
    }
   ],
   "source": [
    "data.head()"
   ]
  },
  {
   "cell_type": "code",
   "execution_count": 21,
   "metadata": {},
   "outputs": [
    {
     "name": "stdout",
     "output_type": "stream",
     "text": [
      "Train data:(180816, 18), Train labels:(180816,)\n",
      "Test data:(24480, 18)\n"
     ]
    }
   ],
   "source": [
    "X = data[:180816]\n",
    "X_test = data[180816:]\n",
    "y = label.default_flg.values\n",
    "print('Train data:{}, Train labels:{}'.format(X.shape, label.default_flg.shape))\n",
    "print ('Test data:{}'.format(X_test.shape))"
   ]
  },
  {
   "cell_type": "code",
   "execution_count": 22,
   "metadata": {
    "collapsed": true
   },
   "outputs": [],
   "source": [
    "'''Перемешивание выборки'''\n",
    "X,y = shuffle(X,y)"
   ]
  },
  {
   "cell_type": "markdown",
   "metadata": {},
   "source": [
    "Разобьем с перемешиванием обучающую выборку и целевые метки на обучение и валидацию:"
   ]
  },
  {
   "cell_type": "code",
   "execution_count": 23,
   "metadata": {},
   "outputs": [
    {
     "data": {
      "text/plain": [
       "0.3584268438827759"
      ]
     },
     "execution_count": 23,
     "metadata": {},
     "output_type": "execute_result"
    }
   ],
   "source": [
    "1-70668/110148 # доля валидационной выборки (1-validate/train)"
   ]
  },
  {
   "cell_type": "code",
   "execution_count": 24,
   "metadata": {},
   "outputs": [
    {
     "name": "stdout",
     "output_type": "stream",
     "text": [
      "X_train:(116011, 18), y_train:(116011,)\n",
      "X_valid:(64805, 18), y_valid:(64805,)\n"
     ]
    }
   ],
   "source": [
    "X_train, X_valid, y_train, y_valid = train_test_split(X, y, test_size=0.3584)\n",
    "print('X_train:{}, y_train:{}'.format(X_train.shape, y_train.shape))\n",
    "print('X_valid:{}, y_valid:{}'.format(X_valid.shape, y_valid.shape))"
   ]
  },
  {
   "cell_type": "code",
   "execution_count": 25,
   "metadata": {
    "collapsed": true
   },
   "outputs": [],
   "source": [
    "data = None"
   ]
  },
  {
   "cell_type": "markdown",
   "metadata": {
    "collapsed": true
   },
   "source": [
    "### 3. Создание конвеера и обучение моделей <a class='anchor' id='3'></a>\n",
    "[в начало](#0)"
   ]
  },
  {
   "cell_type": "code",
   "execution_count": 26,
   "metadata": {
    "collapsed": true
   },
   "outputs": [],
   "source": [
    "# для бинарных признаков\n",
    "binary_data_columns = ['gender_cd', 'car_own_flg', 'car_type_flg', 'good_work_flg', 'Air_flg']\n",
    "binary_data_indices = np.array([(column in binary_data_columns) for column in X_train.columns], dtype = bool)"
   ]
  },
  {
   "cell_type": "code",
   "execution_count": 27,
   "metadata": {
    "collapsed": true
   },
   "outputs": [],
   "source": [
    "# для целых признаков \n",
    "numeric_data_columns = ['education_cd','day_application','month_application','appl_rej_cnt','out_request_cnt',\n",
    "                        'region_rating','home_address_cd','work_address_cd','SNA','first_time_cd'] \n",
    "numeric_data_indices = np.array([(column in numeric_data_columns) for column in X_train.columns], dtype = bool)"
   ]
  },
  {
   "cell_type": "code",
   "execution_count": 28,
   "metadata": {
    "collapsed": true
   },
   "outputs": [],
   "source": [
    "# для вещественных признаков        \n",
    "float_data_columns = ['Score_bki','log_income','log_age'] \n",
    "float_data_indices = np.array([(column in float_data_columns) for column in X_train.columns], dtype = bool)"
   ]
  },
  {
   "cell_type": "markdown",
   "metadata": {},
   "source": [
    "**Задание моделей**"
   ]
  },
  {
   "cell_type": "code",
   "execution_count": 29,
   "metadata": {
    "collapsed": true
   },
   "outputs": [],
   "source": [
    "model_1 = LogisticRegression(random_state = 0, class_weight='balanced')\n",
    "model_2 = LinearSVC(random_state = 0, class_weight='balanced')\n",
    "model_3 = RandomForestClassifier(random_state=0, class_weight='balanced', n_estimators=100)\n",
    "model_4 = GradientBoostingClassifier(random_state=0, n_estimators=100)\n",
    "model_5 = XGBClassifier(n_estimators=100)"
   ]
  },
  {
   "cell_type": "markdown",
   "metadata": {
    "collapsed": true
   },
   "source": [
    "**Построение конвеера**"
   ]
  },
  {
   "cell_type": "code",
   "execution_count": 30,
   "metadata": {
    "collapsed": true
   },
   "outputs": [],
   "source": [
    "'''функция конвеер'''\n",
    "def PipModel(model):\n",
    "    pip = pipeline.Pipeline([\n",
    "        # шаг 1: рзбивка на виды и предобработка\n",
    "        ('feature_processing', pipeline.FeatureUnion([\n",
    "            # шаг 1.1: вещественные признаки (выделение)\n",
    "            ('binary_variables_processing', FunctionTransformer(lambda d: d[:, binary_data_indices])),  \n",
    "            # шаг 1.2: целые признаки (выделение)\n",
    "            ('numeric_variables_processing', pipeline.Pipeline([\n",
    "                    ('selecting', FunctionTransformer(lambda d: d[:, numeric_data_indices])), \n",
    "#                     ('scaling', StandardScaler(with_mean = 0))\n",
    "                    ('scaling', MinMaxScaler())\n",
    "            ])),\n",
    "            # шаг 1.3: вещественные признаки (выделение и стандартизация)\n",
    "            ('float_variables_processing', pipeline.Pipeline([\n",
    "                    ('selecting', FunctionTransformer(lambda d: d[:, float_data_indices])),\n",
    "#                     ('scaling', StandardScaler(with_mean = 0))\n",
    "                    ('scaling', MinMaxScaler())\n",
    "            ]))\n",
    "        ])),\n",
    "        # шаг 2: обучение модели\n",
    "        ('model_fitting', model)\n",
    "    ])\n",
    "    return pip"
   ]
  },
  {
   "cell_type": "markdown",
   "metadata": {},
   "source": [
    "**Модель логистической регрессии:**"
   ]
  },
  {
   "cell_type": "code",
   "execution_count": 30,
   "metadata": {},
   "outputs": [
    {
     "name": "stdout",
     "output_type": "stream",
     "text": [
      "mean: 0.72347, std: 0.00441\n",
      "Wall time: 11.3 s\n"
     ]
    }
   ],
   "source": [
    "%%time\n",
    "cv_1 = cross_val_score(PipModel(model_1), X, y, scoring='roc_auc', cv=5)\n",
    "print('mean: {:.5f}, std: {:.5f}'.format(cv_1.mean(), cv_1.std()))"
   ]
  },
  {
   "cell_type": "markdown",
   "metadata": {},
   "source": [
    "**Модель линейного SVM:**"
   ]
  },
  {
   "cell_type": "code",
   "execution_count": 31,
   "metadata": {},
   "outputs": [
    {
     "name": "stdout",
     "output_type": "stream",
     "text": [
      "mean: 0.72342, std: 0.00441\n",
      "Wall time: 6min 5s\n"
     ]
    }
   ],
   "source": [
    "%%time\n",
    "cv_2 = cross_val_score(PipModel(model_2), X, y, scoring='roc_auc', cv=5)\n",
    "print('mean: {:.5f}, std: {:.5f}'.format(cv_2.mean(), cv_2.std()))"
   ]
  },
  {
   "cell_type": "markdown",
   "metadata": {},
   "source": [
    "**Модель cлучайного леса:**"
   ]
  },
  {
   "cell_type": "code",
   "execution_count": 32,
   "metadata": {},
   "outputs": [
    {
     "name": "stdout",
     "output_type": "stream",
     "text": [
      "mean: 0.70610, std: 0.00478\n",
      "Wall time: 3min 9s\n"
     ]
    }
   ],
   "source": [
    "%%time\n",
    "cv_3 = cross_val_score(model_3, X, y, scoring='roc_auc', cv=5)\n",
    "print('mean: {:.5f}, std: {:.5f}'.format(cv_3.mean(), cv_3.std()))"
   ]
  },
  {
   "cell_type": "markdown",
   "metadata": {},
   "source": [
    "**Модель градиентного бустинга sklearn:**"
   ]
  },
  {
   "cell_type": "code",
   "execution_count": 33,
   "metadata": {
    "scrolled": true
   },
   "outputs": [
    {
     "name": "stdout",
     "output_type": "stream",
     "text": [
      "mean: 0.73460, std: 0.00523\n",
      "Wall time: 1min 44s\n"
     ]
    }
   ],
   "source": [
    "%%time\n",
    "cv_4 = cross_val_score(model_4, X, y, scoring='roc_auc', cv=5)\n",
    "print('mean: {:.5f}, std: {:.5f}'.format(cv_4.mean(), cv_4.std()))"
   ]
  },
  {
   "cell_type": "markdown",
   "metadata": {},
   "source": [
    "**Модель градиентного бустинга xgboost:**"
   ]
  },
  {
   "cell_type": "code",
   "execution_count": 34,
   "metadata": {},
   "outputs": [
    {
     "name": "stdout",
     "output_type": "stream",
     "text": [
      "mean: 0.73361, std: 0.00494\n",
      "Wall time: 1min 2s\n"
     ]
    }
   ],
   "source": [
    "%%time\n",
    "cv_5 = cross_val_score(model_5, X, y, scoring='roc_auc', cv=5)\n",
    "print('mean: {:.5f}, std: {:.5f}'.format(cv_5.mean(), cv_5.std()))"
   ]
  },
  {
   "cell_type": "markdown",
   "metadata": {},
   "source": [
    "### 4. Подбор параметров и анализ качества градиентного бустинга xgboost<a class='anchor' id='4'></a>\n",
    "[в начало](#0)"
   ]
  },
  {
   "cell_type": "markdown",
   "metadata": {},
   "source": [
    "Я буду использовать ансамблирование алгоритвом, а не одну модель XGB, в силу чего хочу подобрать наиболее достойные базовые алгоритмы стекинга"
   ]
  },
  {
   "cell_type": "markdown",
   "metadata": {},
   "source": [
    "**Оптимальное количество деревьев и глубина**"
   ]
  },
  {
   "cell_type": "code",
   "execution_count": 32,
   "metadata": {},
   "outputs": [
    {
     "name": "stdout",
     "output_type": "stream",
     "text": [
      "Wall time: 51min 57s\n"
     ]
    }
   ],
   "source": [
    "%%time\n",
    "'''подбор количества деревьев'''\n",
    "estimators = list(range(30, 305, 5))\n",
    "scoring_estimators = []\n",
    "\n",
    "for i in estimators:\n",
    "    clf = XGBClassifier(n_estimators=i)\n",
    "    score = cross_val_score(clf, X, y, scoring='roc_auc', cv=3).mean()\n",
    "    scoring_estimators.append(score)"
   ]
  },
  {
   "cell_type": "code",
   "execution_count": 33,
   "metadata": {},
   "outputs": [
    {
     "name": "stdout",
     "output_type": "stream",
     "text": [
      "Wall time: 54min 58s\n"
     ]
    }
   ],
   "source": [
    "%%time\n",
    "'''подбор глубины деревьев'''\n",
    "depth = list(range(1,11,1))\n",
    "scoring_depth_1 = []\n",
    "scoring_depth_2 = []\n",
    "\n",
    "for i in depth:\n",
    "    clf = XGBClassifier(max_depth=i, n_estimators=200)\n",
    "    score = cross_val_score(clf, X, y, scoring='roc_auc', cv=3).mean()\n",
    "    scoring_depth_1.append(score)\n",
    "    clf = XGBClassifier(max_depth=i, n_estimators=300)\n",
    "    score = cross_val_score(clf, X, y, scoring='roc_auc', cv=3).mean()\n",
    "    scoring_depth_2.append(score)    "
   ]
  },
  {
   "cell_type": "code",
   "execution_count": 36,
   "metadata": {},
   "outputs": [
    {
     "data": {
      "image/png": "[encoded data removed]",
      "text/plain": [
       "<matplotlib.figure.Figure at 0xb339a20>"
      ]
     },
     "metadata": {},
     "output_type": "display_data"
    }
   ],
   "source": [
    "plt.figure(figsize=(16,6))\n",
    "\n",
    "plt.subplot(1,2,1)\n",
    "plt.plot(estimators, scoring_estimators, marker='.', color='blue', label='cv=3')\n",
    "plt.grid(True)\n",
    "plt.legend()\n",
    "plt.xlabel('число деревьев')\n",
    "plt.ylabel('качество')\n",
    "\n",
    "plt.subplot(1,2,2)\n",
    "plt.plot(depth, scoring_depth_1, marker='.', color='orange', label='200 деревьев')\n",
    "plt.plot(depth, scoring_depth_2, marker='.', color='red', label='300 деревьев')\n",
    "plt.grid(True)\n",
    "plt.legend()\n",
    "plt.xlabel('глубина деревьев')\n",
    "plt.ylabel('качество')\n",
    "\n",
    "plt.show()"
   ]
  },
  {
   "cell_type": "markdown",
   "metadata": {},
   "source": [
    "**Подбор параметров по сетке**"
   ]
  },
  {
   "cell_type": "code",
   "execution_count": 44,
   "metadata": {
    "collapsed": true
   },
   "outputs": [],
   "source": [
    "param_grid = {'n_estimators': [200, 225, 250, 275, 300],\n",
    "              'learning_rate': [0.0025, 0.005, 0.0075, 0.01, 0.025, 0.05, 0.075, 0.1, 0.25, 0.5, 0.75, 1], \n",
    "              'max_depth': [1,2,3,4,5,6]}\n",
    "clf = XGBClassifier() \n",
    "grid = GridSearchCV(clf, param_grid, scoring='roc_auc', cv=5)"
   ]
  },
  {
   "cell_type": "code",
   "execution_count": 45,
   "metadata": {},
   "outputs": [
    {
     "name": "stdout",
     "output_type": "stream",
     "text": [
      "\n",
      "Wall time: 22h 28min 19s\n"
     ]
    }
   ],
   "source": [
    "%%time\n",
    "grid.fit(X,y)\n",
    "print()"
   ]
  },
  {
   "cell_type": "code",
   "execution_count": 46,
   "metadata": {},
   "outputs": [
    {
     "data": {
      "text/plain": [
       "['Model_Grid_XGB.pkl']"
      ]
     },
     "execution_count": 46,
     "metadata": {},
     "output_type": "execute_result"
    }
   ],
   "source": [
    "'''Сохраним полученную модель-сетку'''\n",
    "from sklearn.externals import joblib\n",
    "# joblib.dump(grid, \"Model_Grid_XGB.pkl\")\n",
    "grid = joblib.load(\"./Model_Grid_XGB.pkl\")"
   ]
  },
  {
   "cell_type": "code",
   "execution_count": 49,
   "metadata": {},
   "outputs": [
    {
     "name": "stdout",
     "output_type": "stream",
     "text": [
      "{'learning_rate': 0.1, 'max_depth': 4, 'n_estimators': 250} 0.7376463026051089\n"
     ]
    }
   ],
   "source": [
    "print(grid.best_params_, grid.best_score_)"
   ]
  },
  {
   "cell_type": "code",
   "execution_count": 60,
   "metadata": {
    "collapsed": true
   },
   "outputs": [],
   "source": [
    "# grid_data = pd.DataFrame(grid.cv_results_)"
   ]
  },
  {
   "cell_type": "code",
   "execution_count": 149,
   "metadata": {
    "collapsed": true
   },
   "outputs": [],
   "source": [
    "'''id лучших моделей'''\n",
    "id_200 = grid_data[grid_data.param_n_estimators==200].mean_test_score.idxmax()\n",
    "id_225 = grid_data[grid_data.param_n_estimators==225].mean_test_score.idxmax()\n",
    "id_250 = grid_data[grid_data.param_n_estimators==250].mean_test_score.idxmax()\n",
    "id_275 = grid_data[grid_data.param_n_estimators==275].mean_test_score.idxmax()\n",
    "id_300 = grid_data[grid_data.param_n_estimators==300].mean_test_score.idxmax()\n",
    "\n",
    "'''параметры лучших моделей'''\n",
    "params_200 = grid_data.params[id_200]\n",
    "params_225 = grid_data.params[id_225]\n",
    "params_250 = grid_data.params[id_250]\n",
    "params_275 = grid_data.params[id_275]\n",
    "params_300 = grid_data.params[id_300]"
   ]
  },
  {
   "cell_type": "markdown",
   "metadata": {},
   "source": [
    "### 5. Ансамблирование алгоритмов посредством стекинга <a class='anchor' id='5'></a>\n",
    "[в начало](#0)"
   ]
  },
  {
   "cell_type": "markdown",
   "metadata": {},
   "source": [
    "Тестировать ансамбль будем на обучающей и валидационной выборке"
   ]
  },
  {
   "cell_type": "code",
   "execution_count": 163,
   "metadata": {},
   "outputs": [
    {
     "name": "stdout",
     "output_type": "stream",
     "text": [
      "200 деревьев: 0.7338876940479592\n",
      "225 деревьев: 0.7340484190034968\n",
      "250 деревьев: 0.7341645680391437\n",
      "275 деревьев: 0.7339874815375906\n",
      "300 деревьев: 0.734529790626433\n",
      "Wall time: 2min 21s\n"
     ]
    }
   ],
   "source": [
    "%%time\n",
    "m1 = XGBClassifier(**params_200)\n",
    "m1.fit(X_train, y_train)\n",
    "a = m1.predict_proba(X_valid)[:,1]\n",
    "print('200 деревьев:',roc_auc_score(y_valid, a))\n",
    "\n",
    "m2 = XGBClassifier(**params_225)\n",
    "m2.fit(X_train, y_train)\n",
    "a = m2.predict_proba(X_valid)[:,1]\n",
    "print('225 деревьев:',roc_auc_score(y_valid, a))\n",
    "\n",
    "m3 = XGBClassifier(**params_250)\n",
    "m3.fit(X_train, y_train)\n",
    "a = m3.predict_proba(X_valid)[:,1]\n",
    "print('250 деревьев:',roc_auc_score(y_valid, a))\n",
    "\n",
    "m4 = XGBClassifier(**params_275)\n",
    "m4.fit(X_train, y_train)\n",
    "a = m4.predict_proba(X_valid)[:,1]\n",
    "print('275 деревьев:',roc_auc_score(y_valid, a))\n",
    "\n",
    "m5 = XGBClassifier(**params_300)\n",
    "m5.fit(X_train, y_train)\n",
    "a = m5.predict_proba(X_valid)[:,1]\n",
    "print('300 деревьев:',roc_auc_score(y_valid, a))"
   ]
  },
  {
   "cell_type": "markdown",
   "metadata": {},
   "source": [
    "Проверим качество ансамбля из 5 моделей"
   ]
  },
  {
   "cell_type": "code",
   "execution_count": 166,
   "metadata": {
    "collapsed": true
   },
   "outputs": [],
   "source": [
    "models = [m1, m2, m3, m4, m5]\n",
    "ens_model = LogisticRegression() # в качестве модели ансамбля выберем Лог.регрессию"
   ]
  },
  {
   "cell_type": "code",
   "execution_count": 167,
   "metadata": {},
   "outputs": [
    {
     "name": "stdout",
     "output_type": "stream",
     "text": [
      "0.7323533790184251\n",
      "Wall time: 1min 48s\n"
     ]
    }
   ],
   "source": [
    "%%time\n",
    "'''ансамбль обучение/тест в отношении 75/25'''\n",
    "s1 = DjStacking(models, ens_model)\n",
    "s1.fit(X_train, y_train)\n",
    "a = s1.predict(X_valid)\n",
    "print(roc_auc_score(y_valid, a))"
   ]
  },
  {
   "cell_type": "code",
   "execution_count": 168,
   "metadata": {},
   "outputs": [
    {
     "name": "stdout",
     "output_type": "stream",
     "text": [
      "0.7344059984633632\n",
      "Wall time: 7min 1s\n"
     ]
    }
   ],
   "source": [
    "%%time\n",
    "'''ансамбль с Кросс-Валидацией на 3 фолда'''\n",
    "s2 = DjStacking(models, ens_model)\n",
    "s2.fit(X_train, y_train, p=-1)\n",
    "a = s2.predict(X_valid)\n",
    "print(roc_auc_score(y_valid, a))"
   ]
  },
  {
   "cell_type": "code",
   "execution_count": 179,
   "metadata": {},
   "outputs": [
    {
     "name": "stdout",
     "output_type": "stream",
     "text": [
      "Wall time: 10h 9min 52s\n"
     ]
    }
   ],
   "source": [
    "%%time\n",
    "'''Варьируем число фолдов'''\n",
    "s1 = DjStacking(models, ens_model)\n",
    "E = []\n",
    "\n",
    "for error in [0, 0.01, 0.05, 0.1, 0.5]:\n",
    "    e = []\n",
    "    for t in range(2, 11):\n",
    "        s1.fit(X_train, y_train, p=-1, cv=t, err=error)\n",
    "        a = s1.predict(X_valid)\n",
    "        auc = roc_auc_score(y_valid, a)\n",
    "        e.append(auc)\n",
    "    E.append(e)"
   ]
  },
  {
   "cell_type": "code",
   "execution_count": 180,
   "metadata": {
    "scrolled": true
   },
   "outputs": [
    {
     "data": {
      "text/plain": [
       "<matplotlib.legend.Legend at 0xc1659e8>"
      ]
     },
     "execution_count": 180,
     "metadata": {},
     "output_type": "execute_result"
    },
    {
     "data": {
      "image/png": "[encoded data removed]",
      "text/plain": [
       "<matplotlib.figure.Figure at 0xb3f5518>"
      ]
     },
     "metadata": {},
     "output_type": "display_data"
    }
   ],
   "source": [
    "plt.figure(figsize=(12, 6))\n",
    "plt.plot(np.arange(2,11), 0.734529790626433 + 0*np.arange(2,11), c='black', label='лучшая в сетке')\n",
    "plt.plot(np.arange(2,11), E[0], label='err=0.0', lw=2)\n",
    "plt.plot(np.arange(2,11), E[1], label='err=0.01', lw=2)\n",
    "plt.plot(np.arange(2,11), E[2], label='err=0.05', lw=2)\n",
    "plt.plot(np.arange(2,11), E[3], label='p=0.1', lw=2)\n",
    "plt.plot(np.arange(2,11), E[4], label='p=0.5', lw=2)\n",
    "plt.xlabel(u'число фолдов')\n",
    "plt.ylabel('AUC ROC')\n",
    "plt.legend()"
   ]
  },
  {
   "cell_type": "markdown",
   "metadata": {},
   "source": [
    "Ансамблирование не позволило получить качество превышающее модель грудиентного бустинга с лучшими параметрами. Возможно это связано с тем, что ансамбль использует только один вид алгоритма (градиентный бустинг), однако качество остальных алгоритмов сильно уступает данному, в силу чего я буду использовать просто лучшую модель градиентного бустинга"
   ]
  },
  {
   "cell_type": "markdown",
   "metadata": {
    "collapsed": true
   },
   "source": [
    "### 6. Сравнение ROC кривых<a class='anchor' id='6'></a>\n",
    "[в начало](#0)"
   ]
  },
  {
   "cell_type": "code",
   "execution_count": 191,
   "metadata": {},
   "outputs": [
    {
     "data": {
      "text/plain": [
       "<matplotlib.legend.Legend at 0xc17d898>"
      ]
     },
     "execution_count": 191,
     "metadata": {},
     "output_type": "execute_result"
    },
    {
     "data": {
      "image/png": "[encoded data removed]",
      "text/plain": [
       "<matplotlib.figure.Figure at 0xc17d978>"
      ]
     },
     "metadata": {},
     "output_type": "display_data"
    }
   ],
   "source": [
    "models = [PipModel(model_1), PipModel(model_2), model_3, model_4, grid.best_estimator_]\n",
    "str_models = ['ЛогРег', 'ЛинSVC', 'Случайный лес', 'ГрадБустинг', 'ГрадБустинг ЛучшиеПараметры']\n",
    "\n",
    "plt.figure(figsize=(16, 8)) \n",
    "for model, str_model in zip(models,str_models):\n",
    "    model.fit(X_train, y_train)\n",
    "    if (str_model in ['ЛинSVC']):\n",
    "        pred_scr = model.decision_function(X_valid)\n",
    "    else:\n",
    "        pred_scr = model.predict_proba(X_valid)[:, 1]\n",
    "    fpr, tpr, thresholds = roc_curve(y_valid, pred_scr)\n",
    "    plt.plot(fpr, tpr, label=str_model)\n",
    "\n",
    "plt.xlabel('False Positive Rate')\n",
    "plt.ylabel('True Positive Rate')\n",
    "plt.title('Receiver operating characteristic')\n",
    "plt.legend(loc=\"lower right\")"
   ]
  },
  {
   "cell_type": "markdown",
   "metadata": {},
   "source": [
    "**В качестве итоговой модели берем Градиентный бутсинг с лучшим параметром по сетке**"
   ]
  },
  {
   "cell_type": "markdown",
   "metadata": {},
   "source": [
    "### 7. Получение прогнозов на тесте <a class='anchor' id='7'></a>\n",
    "[в начало](#0)"
   ]
  },
  {
   "cell_type": "markdown",
   "metadata": {},
   "source": [
    "Обучим модель на тестовых данных и загрузим результаты в kaggle"
   ]
  },
  {
   "cell_type": "code",
   "execution_count": 192,
   "metadata": {
    "collapsed": true
   },
   "outputs": [],
   "source": [
    "Model = grid.best_estimator_"
   ]
  },
  {
   "cell_type": "code",
   "execution_count": 193,
   "metadata": {},
   "outputs": [
    {
     "name": "stdout",
     "output_type": "stream",
     "text": [
      "Wall time: 53.1 s\n"
     ]
    },
    {
     "data": {
      "text/plain": [
       "XGBClassifier(base_score=0.5, booster='gbtree', colsample_bylevel=1,\n",
       "       colsample_bytree=1, gamma=0, learning_rate=0.1, max_delta_step=0,\n",
       "       max_depth=4, min_child_weight=1, missing=None, n_estimators=250,\n",
       "       n_jobs=1, nthread=None, objective='binary:logistic', random_state=0,\n",
       "       reg_alpha=0, reg_lambda=1, scale_pos_weight=1, seed=None,\n",
       "       silent=True, subsample=1)"
      ]
     },
     "execution_count": 193,
     "metadata": {},
     "output_type": "execute_result"
    }
   ],
   "source": [
    "%%time\n",
    "Model.fit(X,y)"
   ]
  },
  {
   "cell_type": "code",
   "execution_count": 194,
   "metadata": {
    "collapsed": true
   },
   "outputs": [],
   "source": [
    "test_pd = Model.predict_proba(X_test)[:,1]"
   ]
  },
  {
   "cell_type": "code",
   "execution_count": 195,
   "metadata": {},
   "outputs": [
    {
     "data": {
      "text/plain": [
       "(24480,)"
      ]
     },
     "execution_count": 195,
     "metadata": {},
     "output_type": "execute_result"
    }
   ],
   "source": [
    "test_pd.shape"
   ]
  },
  {
   "cell_type": "code",
   "execution_count": 196,
   "metadata": {
    "collapsed": true
   },
   "outputs": [],
   "source": [
    "data = pd.read_csv('application_info.csv', index_col='id')\n",
    "label = pd.read_csv('default_flg.csv') # подргузим id целевые метки\n",
    "\n",
    "test_index  = data[data.sample_cd =='test'].sample_cd.index"
   ]
  },
  {
   "cell_type": "code",
   "execution_count": 197,
   "metadata": {},
   "outputs": [
    {
     "data": {
      "text/plain": [
       "(24480,)"
      ]
     },
     "execution_count": 197,
     "metadata": {},
     "output_type": "execute_result"
    }
   ],
   "source": [
    "test_index.shape"
   ]
  },
  {
   "cell_type": "code",
   "execution_count": 198,
   "metadata": {},
   "outputs": [
    {
     "name": "stdout",
     "output_type": "stream",
     "text": [
      "(24480, 1)\n"
     ]
    },
    {
     "data": {
      "text/html": [
       "<div>\n",
       "<style scoped>\n",
       "    .dataframe tbody tr th:only-of-type {\n",
       "        vertical-align: middle;\n",
       "    }\n",
       "\n",
       "    .dataframe tbody tr th {\n",
       "        vertical-align: top;\n",
       "    }\n",
       "\n",
       "    .dataframe thead th {\n",
       "        text-align: right;\n",
       "    }\n",
       "</style>\n",
       "<table border=\"1\" class=\"dataframe\">\n",
       "  <thead>\n",
       "    <tr style=\"text-align: right;\">\n",
       "      <th></th>\n",
       "      <th>score</th>\n",
       "    </tr>\n",
       "    <tr>\n",
       "      <th>id</th>\n",
       "      <th></th>\n",
       "    </tr>\n",
       "  </thead>\n",
       "  <tbody>\n",
       "    <tr>\n",
       "      <th>180817</th>\n",
       "      <td>0.080386</td>\n",
       "    </tr>\n",
       "    <tr>\n",
       "      <th>180818</th>\n",
       "      <td>0.138885</td>\n",
       "    </tr>\n",
       "  </tbody>\n",
       "</table>\n",
       "</div>"
      ],
      "text/plain": [
       "           score\n",
       "id              \n",
       "180817  0.080386\n",
       "180818  0.138885"
      ]
     },
     "execution_count": 198,
     "metadata": {},
     "output_type": "execute_result"
    }
   ],
   "source": [
    "test_pd2 = pd.DataFrame(test_pd, columns=['score'], index=test_index)\n",
    "test_pd2.to_csv('XGB_submission.csv')\n",
    "print(test_pd2.shape)\n",
    "test_pd2.head(2)"
   ]
  },
  {
   "cell_type": "markdown",
   "metadata": {
    "collapsed": true
   },
   "source": [
    "### 8. Пользовательские функции <a class='anchor' id='8'></a>                                                \n",
    "[в начало](#0)"
   ]
  },
  {
   "cell_type": "markdown",
   "metadata": {},
   "source": [
    "**функция визуализации параметров модели по сетке**"
   ]
  },
  {
   "cell_type": "code",
   "execution_count": null,
   "metadata": {
    "collapsed": true
   },
   "outputs": [],
   "source": [
    "def PrintGridParams(grid, param_grid, param_1, param_2, color='b'):\n",
    "\n",
    "    values = grid.grid_scores_\n",
    "    values = [values[k][1] for k in range(len(values))]\n",
    "    values = np.round(values,4)\n",
    "    size_1 = len(param_grid[param_1]) \n",
    "    size_2 = len(param_grid[param_2])\n",
    "    values = np.reshape(values,(size_1,size_2)) # преобразование списка в матрицу\n",
    "\n",
    "    xx = param_grid[param_2]\n",
    "    yy = param_grid[param_1]\n",
    "    \n",
    "    fig, ax = plt.subplots(figsize=(10,10))\n",
    "    im = ax.imshow(values)\n",
    "\n",
    "    ax.set_xticks(range(len(xx)))\n",
    "    ax.set_yticks(range(len(yy)))\n",
    "    ax.set_xticklabels(xx)\n",
    "    ax.set_yticklabels(yy)\n",
    "    ax.set_xlabel(param_2)\n",
    "    ax.set_ylabel(param_1)\n",
    "    \n",
    "    for i in range(len(xx)):\n",
    "        for j in range(len(yy)):\n",
    "            text = ax.text(i, j, values[j,i], ha='center', va='center', color=color)\n",
    "\n",
    "    ax.set_title('Подбор параметров модели')\n",
    "    fig.tight_layout()\n",
    "    plt.show()"
   ]
  },
  {
   "cell_type": "markdown",
   "metadata": {},
   "source": [
    "** Стекинг (ансамблирование) **"
   ]
  },
  {
   "cell_type": "code",
   "execution_count": 164,
   "metadata": {
    "collapsed": true
   },
   "outputs": [],
   "source": [
    "from sklearn.base import BaseEstimator, ClassifierMixin\n",
    "from sklearn.model_selection import train_test_split\n",
    "from sklearn.model_selection import cross_val_predict\n",
    "\n",
    "class DjStacking(BaseEstimator, ClassifierMixin):  \n",
    "    \"\"\"Стэкинг моделей scikit-learn\"\"\"\n",
    "\n",
    "    def __init__(self, models, ens_model):\n",
    "        \"\"\"\n",
    "        Инициализация\n",
    "        models - базовые модели для стекинга\n",
    "        ens_model - мета-модель\n",
    "        \"\"\"\n",
    "        self.models = models\n",
    "        self.ens_model = ens_model\n",
    "        self.n = len(models)\n",
    "        self.valid = None\n",
    "        \n",
    "    def fit(self, X, y=None, p=0.25, cv=3, err=0.001, random_state=None):\n",
    "        \"\"\"\n",
    "        Обучение стекинга\n",
    "        p - в каком отношении делить на обучение / тест\n",
    "            если p = 0 - используем всё обучение!\n",
    "        cv  (при p=0) - сколько фолдов использовать\n",
    "        err (при p=0) - величина случайной добавки к метапризнакам\n",
    "        random_state - инициализация генератора\n",
    "            \n",
    "        \"\"\"\n",
    "        if (p > 0): # делим на обучение и тест\n",
    "            # разбиение на обучение моделей и метамодели\n",
    "            train, valid, y_train, y_valid = train_test_split(X, y, test_size=p, random_state=random_state)\n",
    "            \n",
    "            # заполнение матрицы для обучения метамодели\n",
    "            self.valid = np.zeros((valid.shape[0], self.n))\n",
    "            for t, clf in enumerate(self.models):\n",
    "                clf.fit(train, y_train)\n",
    "                self.valid[:, t] = clf.predict_proba(valid)[:,1]\n",
    "                \n",
    "            # обучение метамодели\n",
    "            self.ens_model.fit(self.valid, y_valid)\n",
    "            \n",
    "        else: # используем всё обучение\n",
    "            \n",
    "            # для регуляризации - берём случайные добавки\n",
    "            self.valid = err*np.random.randn(X.shape[0], self.n)\n",
    "            \n",
    "            for t, clf in enumerate(self.models):\n",
    "                # это oob-ответы алгоритмов\n",
    "                self.valid[:, t] += cross_val_predict(clf, X, y, cv=cv, method='predict_proba')[:,1]\n",
    "                # но сам алгоритм надо настроить\n",
    "                clf.fit(X, y)\n",
    "            \n",
    "            # обучение метамодели\n",
    "            self.ens_model.fit(self.valid, y)  \n",
    "            \n",
    "\n",
    "        return self\n",
    "    \n",
    "\n",
    "\n",
    "    def predict(self, X, y=None):\n",
    "        \"\"\"\n",
    "        Работа стэкинга\n",
    "        \"\"\"\n",
    "        # заполение матрицы для мета-классификатора\n",
    "        X_meta = np.zeros((X.shape[0], self.n))\n",
    "        \n",
    "        for t, clf in enumerate(self.models):\n",
    "            X_meta[:, t] = clf.predict_proba(X)[:,1]\n",
    "        \n",
    "        a = self.ens_model.predict_proba(X_meta)[:,1]\n",
    "        \n",
    "        return (a)"
   ]
  },
  {
   "cell_type": "markdown",
   "metadata": {
    "collapsed": true
   },
   "source": [
    "### [в начало](#0)"
   ]
  }
 ],
 "metadata": {
  "kernelspec": {
   "display_name": "Python 3",
   "language": "python",
   "name": "python3"
  },
  "language_info": {
   "codemirror_mode": {
    "name": "ipython",
    "version": 3
   },
   "file_extension": ".py",
   "mimetype": "text/x-python",
   "name": "python",
   "nbconvert_exporter": "python",
   "pygments_lexer": "ipython3",
   "version": "3.6.3"
  }
 },
 "nbformat": 4,
 "nbformat_minor": 2
}
